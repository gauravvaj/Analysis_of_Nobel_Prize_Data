{
 "cells": [
  {
   "cell_type": "markdown",
   "id": "cb140508-58fe-43de-8eef-19be4105e746",
   "metadata": {},
   "source": [
    "# 1. Introduction: Analysis of Nobel Prize Winner's Data "
   ]
  },
  {
   "cell_type": "markdown",
   "id": "39799c22-d824-40cf-887d-71dd2e4ba8f6",
   "metadata": {},
   "source": [
    "Nobel Prize is considered the one of the most prestigious prize a person can get. It is basically five separate prizes that, according to Alfred Nobel's will of 1895, are awarded to \"those who, during the preceding year, have conferred the greatest benefit to humankind\". The five in which Nobel Prize is given are  Chemistry, Economic Sciences , Literature , Peace , Physics and Physiology & Medicine. \n",
    "\n",
    "Here in this Project we will be using various Python libraries to do data analysis of the Nobel Prize Winners from 1901 to 2020."
   ]
  },
  {
   "cell_type": "code",
   "execution_count": null,
   "id": "31130df5-8c3e-4623-a017-77b690178487",
   "metadata": {},
   "outputs": [],
   "source": []
  },
  {
   "cell_type": "markdown",
   "id": "c8a2e0d8-02f5-46cf-b7ae-2e11a205cef6",
   "metadata": {},
   "source": [
    "# 2. Importing Libraries and Data \n",
    "In this section we will be importing important libraries and data . Along with this we will have initial check of the data."
   ]
  },
  {
   "cell_type": "code",
   "execution_count": 1,
   "id": "2ed0e12f-c0bb-411c-a4e4-471952c9d70a",
   "metadata": {},
   "outputs": [],
   "source": [
    "# Importing important libraries \n",
    "import pandas as pd \n",
    "import numpy as np\n",
    "import matplotlib.pyplot as plt \n",
    "import seaborn as sns\n",
    "pd.set_option(\"display.max_columns\",200)"
   ]
  },
  {
   "cell_type": "code",
   "execution_count": 2,
   "id": "607dbd64-ce43-4821-8d8b-b33a69762811",
   "metadata": {},
   "outputs": [],
   "source": [
    "df=pd.read_csv(\"D:/jupyter_workspace/Nobel_Prize_DataAnalysis/complete2.csv\")"
   ]
  },
  {
   "cell_type": "code",
   "execution_count": 3,
   "id": "dad55924-917b-41e2-bd88-a87253852c5a",
   "metadata": {},
   "outputs": [
    {
     "data": {
      "text/html": [
       "<div>\n",
       "<style scoped>\n",
       "    .dataframe tbody tr th:only-of-type {\n",
       "        vertical-align: middle;\n",
       "    }\n",
       "\n",
       "    .dataframe tbody tr th {\n",
       "        vertical-align: top;\n",
       "    }\n",
       "\n",
       "    .dataframe thead th {\n",
       "        text-align: right;\n",
       "    }\n",
       "</style>\n",
       "<table border=\"1\" class=\"dataframe\">\n",
       "  <thead>\n",
       "    <tr style=\"text-align: right;\">\n",
       "      <th></th>\n",
       "      <th>awardYear</th>\n",
       "      <th>category</th>\n",
       "      <th>categoryFullName</th>\n",
       "      <th>sortOrder</th>\n",
       "      <th>portion</th>\n",
       "      <th>prizeAmount</th>\n",
       "      <th>prizeAmountAdjusted</th>\n",
       "      <th>dateAwarded</th>\n",
       "      <th>prizeStatus</th>\n",
       "      <th>motivation</th>\n",
       "      <th>categoryTopMotivation</th>\n",
       "      <th>award_link</th>\n",
       "      <th>id</th>\n",
       "      <th>name</th>\n",
       "      <th>knownName</th>\n",
       "      <th>givenName</th>\n",
       "      <th>familyName</th>\n",
       "      <th>fullName</th>\n",
       "      <th>penName</th>\n",
       "      <th>gender</th>\n",
       "      <th>laureate_link</th>\n",
       "      <th>birth_date</th>\n",
       "      <th>birth_city</th>\n",
       "      <th>birth_cityNow</th>\n",
       "      <th>birth_continent</th>\n",
       "      <th>birth_country</th>\n",
       "      <th>birth_countryNow</th>\n",
       "      <th>birth_locationString</th>\n",
       "      <th>death_date</th>\n",
       "      <th>death_city</th>\n",
       "      <th>death_cityNow</th>\n",
       "      <th>death_continent</th>\n",
       "      <th>death_country</th>\n",
       "      <th>death_countryNow</th>\n",
       "      <th>death_locationString</th>\n",
       "      <th>orgName</th>\n",
       "      <th>nativeName</th>\n",
       "      <th>acronym</th>\n",
       "      <th>org_founded_date</th>\n",
       "      <th>org_founded_city</th>\n",
       "      <th>org_founded_cityNow</th>\n",
       "      <th>org_founded_continent</th>\n",
       "      <th>org_founded_country</th>\n",
       "      <th>org_founded_countryNow</th>\n",
       "      <th>org_founded_locationString</th>\n",
       "      <th>ind_or_org</th>\n",
       "      <th>residence_1</th>\n",
       "      <th>residence_2</th>\n",
       "      <th>affiliation_1</th>\n",
       "      <th>affiliation_2</th>\n",
       "      <th>affiliation_3</th>\n",
       "      <th>affiliation_4</th>\n",
       "    </tr>\n",
       "  </thead>\n",
       "  <tbody>\n",
       "    <tr>\n",
       "      <th>0</th>\n",
       "      <td>2001</td>\n",
       "      <td>Economic Sciences</td>\n",
       "      <td>The Sveriges Riksbank Prize in Economic Scienc...</td>\n",
       "      <td>2</td>\n",
       "      <td>3</td>\n",
       "      <td>10000000</td>\n",
       "      <td>12295082</td>\n",
       "      <td>10-10-01</td>\n",
       "      <td>received</td>\n",
       "      <td>for their analyses of markets with asymmetric ...</td>\n",
       "      <td>NaN</td>\n",
       "      <td>https://masterdataapi.nobelprize.org/2/nobelPr...</td>\n",
       "      <td>745</td>\n",
       "      <td>A. Michael Spence</td>\n",
       "      <td>A. Michael Spence</td>\n",
       "      <td>A. Michael</td>\n",
       "      <td>Spence</td>\n",
       "      <td>A. Michael Spence</td>\n",
       "      <td>NaN</td>\n",
       "      <td>male</td>\n",
       "      <td>http://masterdataapi.nobelprize.org/2/laureate...</td>\n",
       "      <td>1943-07-11</td>\n",
       "      <td>Montclair, NJ</td>\n",
       "      <td>Montclair, NJ</td>\n",
       "      <td>North America</td>\n",
       "      <td>USA</td>\n",
       "      <td>USA</td>\n",
       "      <td>Montclair, NJ, USA</td>\n",
       "      <td>NaN</td>\n",
       "      <td>NaN</td>\n",
       "      <td>NaN</td>\n",
       "      <td>NaN</td>\n",
       "      <td>NaN</td>\n",
       "      <td>NaN</td>\n",
       "      <td>NaN</td>\n",
       "      <td>NaN</td>\n",
       "      <td>NaN</td>\n",
       "      <td>NaN</td>\n",
       "      <td>NaN</td>\n",
       "      <td>NaN</td>\n",
       "      <td>NaN</td>\n",
       "      <td>NaN</td>\n",
       "      <td>NaN</td>\n",
       "      <td>NaN</td>\n",
       "      <td>NaN</td>\n",
       "      <td>Individual</td>\n",
       "      <td>NaN</td>\n",
       "      <td>NaN</td>\n",
       "      <td>Stanford University, Stanford, CA, USA</td>\n",
       "      <td>NaN</td>\n",
       "      <td>NaN</td>\n",
       "      <td>NaN</td>\n",
       "    </tr>\n",
       "    <tr>\n",
       "      <th>1</th>\n",
       "      <td>1975</td>\n",
       "      <td>Physics</td>\n",
       "      <td>The Nobel Prize in Physics</td>\n",
       "      <td>1</td>\n",
       "      <td>3</td>\n",
       "      <td>630000</td>\n",
       "      <td>3404179</td>\n",
       "      <td>17-10-75</td>\n",
       "      <td>received</td>\n",
       "      <td>for the discovery of the connection between co...</td>\n",
       "      <td>NaN</td>\n",
       "      <td>https://masterdataapi.nobelprize.org/2/nobelPr...</td>\n",
       "      <td>102</td>\n",
       "      <td>Aage N. Bohr</td>\n",
       "      <td>Aage N. Bohr</td>\n",
       "      <td>Aage N.</td>\n",
       "      <td>Bohr</td>\n",
       "      <td>Aage Niels Bohr</td>\n",
       "      <td>NaN</td>\n",
       "      <td>male</td>\n",
       "      <td>http://masterdataapi.nobelprize.org/2/laureate...</td>\n",
       "      <td>1922-06-19</td>\n",
       "      <td>Copenhagen</td>\n",
       "      <td>Copenhagen</td>\n",
       "      <td>Europe</td>\n",
       "      <td>Denmark</td>\n",
       "      <td>Denmark</td>\n",
       "      <td>Copenhagen, Denmark</td>\n",
       "      <td>08-09-09</td>\n",
       "      <td>Copenhagen</td>\n",
       "      <td>Copenhagen</td>\n",
       "      <td>Europe</td>\n",
       "      <td>Denmark</td>\n",
       "      <td>Denmark</td>\n",
       "      <td>Copenhagen, Denmark</td>\n",
       "      <td>NaN</td>\n",
       "      <td>NaN</td>\n",
       "      <td>NaN</td>\n",
       "      <td>NaN</td>\n",
       "      <td>NaN</td>\n",
       "      <td>NaN</td>\n",
       "      <td>NaN</td>\n",
       "      <td>NaN</td>\n",
       "      <td>NaN</td>\n",
       "      <td>NaN</td>\n",
       "      <td>Individual</td>\n",
       "      <td>NaN</td>\n",
       "      <td>NaN</td>\n",
       "      <td>Niels Bohr Institute, Copenhagen, Denmark</td>\n",
       "      <td>NaN</td>\n",
       "      <td>NaN</td>\n",
       "      <td>NaN</td>\n",
       "    </tr>\n",
       "    <tr>\n",
       "      <th>2</th>\n",
       "      <td>2004</td>\n",
       "      <td>Chemistry</td>\n",
       "      <td>The Nobel Prize in Chemistry</td>\n",
       "      <td>1</td>\n",
       "      <td>3</td>\n",
       "      <td>10000000</td>\n",
       "      <td>11762861</td>\n",
       "      <td>06-10-04</td>\n",
       "      <td>received</td>\n",
       "      <td>for the discovery of ubiquitin-mediated protei...</td>\n",
       "      <td>NaN</td>\n",
       "      <td>https://masterdataapi.nobelprize.org/2/nobelPr...</td>\n",
       "      <td>779</td>\n",
       "      <td>Aaron Ciechanover</td>\n",
       "      <td>Aaron Ciechanover</td>\n",
       "      <td>Aaron</td>\n",
       "      <td>Ciechanover</td>\n",
       "      <td>Aaron Ciechanover</td>\n",
       "      <td>NaN</td>\n",
       "      <td>male</td>\n",
       "      <td>http://masterdataapi.nobelprize.org/2/laureate...</td>\n",
       "      <td>1947-10-01</td>\n",
       "      <td>Haifa</td>\n",
       "      <td>Haifa</td>\n",
       "      <td>Asia</td>\n",
       "      <td>British Protectorate of Palestine</td>\n",
       "      <td>Israel</td>\n",
       "      <td>Haifa, British Protectorate of Palestine (now ...</td>\n",
       "      <td>NaN</td>\n",
       "      <td>NaN</td>\n",
       "      <td>NaN</td>\n",
       "      <td>NaN</td>\n",
       "      <td>NaN</td>\n",
       "      <td>NaN</td>\n",
       "      <td>NaN</td>\n",
       "      <td>NaN</td>\n",
       "      <td>NaN</td>\n",
       "      <td>NaN</td>\n",
       "      <td>NaN</td>\n",
       "      <td>NaN</td>\n",
       "      <td>NaN</td>\n",
       "      <td>NaN</td>\n",
       "      <td>NaN</td>\n",
       "      <td>NaN</td>\n",
       "      <td>NaN</td>\n",
       "      <td>Individual</td>\n",
       "      <td>NaN</td>\n",
       "      <td>NaN</td>\n",
       "      <td>Technion - Israel Institute of Technology, Hai...</td>\n",
       "      <td>NaN</td>\n",
       "      <td>NaN</td>\n",
       "      <td>NaN</td>\n",
       "    </tr>\n",
       "    <tr>\n",
       "      <th>3</th>\n",
       "      <td>1982</td>\n",
       "      <td>Chemistry</td>\n",
       "      <td>The Nobel Prize in Chemistry</td>\n",
       "      <td>1</td>\n",
       "      <td>1</td>\n",
       "      <td>1150000</td>\n",
       "      <td>3102518</td>\n",
       "      <td>18-10-82</td>\n",
       "      <td>received</td>\n",
       "      <td>for his development of crystallographic electr...</td>\n",
       "      <td>NaN</td>\n",
       "      <td>https://masterdataapi.nobelprize.org/2/nobelPr...</td>\n",
       "      <td>259</td>\n",
       "      <td>Aaron Klug</td>\n",
       "      <td>Aaron Klug</td>\n",
       "      <td>Aaron</td>\n",
       "      <td>Klug</td>\n",
       "      <td>Aaron Klug</td>\n",
       "      <td>NaN</td>\n",
       "      <td>male</td>\n",
       "      <td>http://masterdataapi.nobelprize.org/2/laureate...</td>\n",
       "      <td>1926-08-11</td>\n",
       "      <td>Zelvas</td>\n",
       "      <td>Zelvas</td>\n",
       "      <td>Europe</td>\n",
       "      <td>Lithuania</td>\n",
       "      <td>Lithuania</td>\n",
       "      <td>Zelvas, Lithuania</td>\n",
       "      <td>20-11-18</td>\n",
       "      <td>NaN</td>\n",
       "      <td>NaN</td>\n",
       "      <td>NaN</td>\n",
       "      <td>NaN</td>\n",
       "      <td>NaN</td>\n",
       "      <td>NaN</td>\n",
       "      <td>NaN</td>\n",
       "      <td>NaN</td>\n",
       "      <td>NaN</td>\n",
       "      <td>NaN</td>\n",
       "      <td>NaN</td>\n",
       "      <td>NaN</td>\n",
       "      <td>NaN</td>\n",
       "      <td>NaN</td>\n",
       "      <td>NaN</td>\n",
       "      <td>NaN</td>\n",
       "      <td>Individual</td>\n",
       "      <td>NaN</td>\n",
       "      <td>NaN</td>\n",
       "      <td>MRC Laboratory of Molecular Biology, Cambridge...</td>\n",
       "      <td>NaN</td>\n",
       "      <td>NaN</td>\n",
       "      <td>NaN</td>\n",
       "    </tr>\n",
       "    <tr>\n",
       "      <th>4</th>\n",
       "      <td>1979</td>\n",
       "      <td>Physics</td>\n",
       "      <td>The Nobel Prize in Physics</td>\n",
       "      <td>2</td>\n",
       "      <td>3</td>\n",
       "      <td>800000</td>\n",
       "      <td>2988048</td>\n",
       "      <td>15-10-79</td>\n",
       "      <td>received</td>\n",
       "      <td>for their contributions to the theory of the u...</td>\n",
       "      <td>NaN</td>\n",
       "      <td>https://masterdataapi.nobelprize.org/2/nobelPr...</td>\n",
       "      <td>114</td>\n",
       "      <td>Abdus Salam</td>\n",
       "      <td>Abdus Salam</td>\n",
       "      <td>Abdus</td>\n",
       "      <td>Salam</td>\n",
       "      <td>Abdus Salam</td>\n",
       "      <td>NaN</td>\n",
       "      <td>male</td>\n",
       "      <td>http://masterdataapi.nobelprize.org/2/laureate...</td>\n",
       "      <td>1926-01-29</td>\n",
       "      <td>Jhang Maghiāna</td>\n",
       "      <td>Jhang Maghiāna</td>\n",
       "      <td>Asia</td>\n",
       "      <td>India</td>\n",
       "      <td>Pakistan</td>\n",
       "      <td>Jhang Maghiāna, India (now Pakistan)</td>\n",
       "      <td>21-11-96</td>\n",
       "      <td>Oxford</td>\n",
       "      <td>Oxford</td>\n",
       "      <td>Europe</td>\n",
       "      <td>United Kingdom</td>\n",
       "      <td>United Kingdom</td>\n",
       "      <td>Oxford, United Kingdom</td>\n",
       "      <td>NaN</td>\n",
       "      <td>NaN</td>\n",
       "      <td>NaN</td>\n",
       "      <td>NaN</td>\n",
       "      <td>NaN</td>\n",
       "      <td>NaN</td>\n",
       "      <td>NaN</td>\n",
       "      <td>NaN</td>\n",
       "      <td>NaN</td>\n",
       "      <td>NaN</td>\n",
       "      <td>Individual</td>\n",
       "      <td>NaN</td>\n",
       "      <td>NaN</td>\n",
       "      <td>International Centre for Theoretical Physics, ...</td>\n",
       "      <td>Imperial College, London, United Kingdom</td>\n",
       "      <td>NaN</td>\n",
       "      <td>NaN</td>\n",
       "    </tr>\n",
       "  </tbody>\n",
       "</table>\n",
       "</div>"
      ],
      "text/plain": [
       "   awardYear           category  \\\n",
       "0       2001  Economic Sciences   \n",
       "1       1975            Physics   \n",
       "2       2004          Chemistry   \n",
       "3       1982          Chemistry   \n",
       "4       1979            Physics   \n",
       "\n",
       "                                    categoryFullName  sortOrder  portion  \\\n",
       "0  The Sveriges Riksbank Prize in Economic Scienc...          2        3   \n",
       "1                         The Nobel Prize in Physics          1        3   \n",
       "2                       The Nobel Prize in Chemistry          1        3   \n",
       "3                       The Nobel Prize in Chemistry          1        1   \n",
       "4                         The Nobel Prize in Physics          2        3   \n",
       "\n",
       "   prizeAmount  prizeAmountAdjusted dateAwarded prizeStatus  \\\n",
       "0     10000000             12295082    10-10-01    received   \n",
       "1       630000              3404179    17-10-75    received   \n",
       "2     10000000             11762861    06-10-04    received   \n",
       "3      1150000              3102518    18-10-82    received   \n",
       "4       800000              2988048    15-10-79    received   \n",
       "\n",
       "                                          motivation categoryTopMotivation  \\\n",
       "0  for their analyses of markets with asymmetric ...                   NaN   \n",
       "1  for the discovery of the connection between co...                   NaN   \n",
       "2  for the discovery of ubiquitin-mediated protei...                   NaN   \n",
       "3  for his development of crystallographic electr...                   NaN   \n",
       "4  for their contributions to the theory of the u...                   NaN   \n",
       "\n",
       "                                          award_link   id               name  \\\n",
       "0  https://masterdataapi.nobelprize.org/2/nobelPr...  745  A. Michael Spence   \n",
       "1  https://masterdataapi.nobelprize.org/2/nobelPr...  102       Aage N. Bohr   \n",
       "2  https://masterdataapi.nobelprize.org/2/nobelPr...  779  Aaron Ciechanover   \n",
       "3  https://masterdataapi.nobelprize.org/2/nobelPr...  259         Aaron Klug   \n",
       "4  https://masterdataapi.nobelprize.org/2/nobelPr...  114        Abdus Salam   \n",
       "\n",
       "           knownName   givenName   familyName           fullName penName  \\\n",
       "0  A. Michael Spence  A. Michael       Spence  A. Michael Spence     NaN   \n",
       "1       Aage N. Bohr     Aage N.         Bohr    Aage Niels Bohr     NaN   \n",
       "2  Aaron Ciechanover       Aaron  Ciechanover  Aaron Ciechanover     NaN   \n",
       "3         Aaron Klug       Aaron         Klug         Aaron Klug     NaN   \n",
       "4        Abdus Salam       Abdus        Salam        Abdus Salam     NaN   \n",
       "\n",
       "  gender                                      laureate_link  birth_date  \\\n",
       "0   male  http://masterdataapi.nobelprize.org/2/laureate...  1943-07-11   \n",
       "1   male  http://masterdataapi.nobelprize.org/2/laureate...  1922-06-19   \n",
       "2   male  http://masterdataapi.nobelprize.org/2/laureate...  1947-10-01   \n",
       "3   male  http://masterdataapi.nobelprize.org/2/laureate...  1926-08-11   \n",
       "4   male  http://masterdataapi.nobelprize.org/2/laureate...  1926-01-29   \n",
       "\n",
       "       birth_city   birth_cityNow birth_continent  \\\n",
       "0   Montclair, NJ   Montclair, NJ   North America   \n",
       "1      Copenhagen      Copenhagen          Europe   \n",
       "2           Haifa           Haifa            Asia   \n",
       "3          Zelvas          Zelvas          Europe   \n",
       "4  Jhang Maghiāna  Jhang Maghiāna            Asia   \n",
       "\n",
       "                       birth_country birth_countryNow  \\\n",
       "0                                USA              USA   \n",
       "1                            Denmark          Denmark   \n",
       "2  British Protectorate of Palestine           Israel   \n",
       "3                          Lithuania        Lithuania   \n",
       "4                              India         Pakistan   \n",
       "\n",
       "                                birth_locationString death_date  death_city  \\\n",
       "0                                 Montclair, NJ, USA        NaN         NaN   \n",
       "1                                Copenhagen, Denmark   08-09-09  Copenhagen   \n",
       "2  Haifa, British Protectorate of Palestine (now ...        NaN         NaN   \n",
       "3                                  Zelvas, Lithuania   20-11-18         NaN   \n",
       "4               Jhang Maghiāna, India (now Pakistan)   21-11-96      Oxford   \n",
       "\n",
       "  death_cityNow death_continent   death_country death_countryNow  \\\n",
       "0           NaN             NaN             NaN              NaN   \n",
       "1    Copenhagen          Europe         Denmark          Denmark   \n",
       "2           NaN             NaN             NaN              NaN   \n",
       "3           NaN             NaN             NaN              NaN   \n",
       "4        Oxford          Europe  United Kingdom   United Kingdom   \n",
       "\n",
       "     death_locationString orgName nativeName acronym org_founded_date  \\\n",
       "0                     NaN     NaN        NaN     NaN              NaN   \n",
       "1     Copenhagen, Denmark     NaN        NaN     NaN              NaN   \n",
       "2                     NaN     NaN        NaN     NaN              NaN   \n",
       "3                     NaN     NaN        NaN     NaN              NaN   \n",
       "4  Oxford, United Kingdom     NaN        NaN     NaN              NaN   \n",
       "\n",
       "  org_founded_city org_founded_cityNow org_founded_continent  \\\n",
       "0              NaN                 NaN                   NaN   \n",
       "1              NaN                 NaN                   NaN   \n",
       "2              NaN                 NaN                   NaN   \n",
       "3              NaN                 NaN                   NaN   \n",
       "4              NaN                 NaN                   NaN   \n",
       "\n",
       "  org_founded_country org_founded_countryNow org_founded_locationString  \\\n",
       "0                 NaN                    NaN                        NaN   \n",
       "1                 NaN                    NaN                        NaN   \n",
       "2                 NaN                    NaN                        NaN   \n",
       "3                 NaN                    NaN                        NaN   \n",
       "4                 NaN                    NaN                        NaN   \n",
       "\n",
       "   ind_or_org residence_1 residence_2  \\\n",
       "0  Individual         NaN         NaN   \n",
       "1  Individual         NaN         NaN   \n",
       "2  Individual         NaN         NaN   \n",
       "3  Individual         NaN         NaN   \n",
       "4  Individual         NaN         NaN   \n",
       "\n",
       "                                       affiliation_1  \\\n",
       "0             Stanford University, Stanford, CA, USA   \n",
       "1          Niels Bohr Institute, Copenhagen, Denmark   \n",
       "2  Technion - Israel Institute of Technology, Hai...   \n",
       "3  MRC Laboratory of Molecular Biology, Cambridge...   \n",
       "4  International Centre for Theoretical Physics, ...   \n",
       "\n",
       "                              affiliation_2 affiliation_3 affiliation_4  \n",
       "0                                       NaN           NaN           NaN  \n",
       "1                                       NaN           NaN           NaN  \n",
       "2                                       NaN           NaN           NaN  \n",
       "3                                       NaN           NaN           NaN  \n",
       "4  Imperial College, London, United Kingdom           NaN           NaN  "
      ]
     },
     "execution_count": 3,
     "metadata": {},
     "output_type": "execute_result"
    }
   ],
   "source": [
    "df.head()"
   ]
  },
  {
   "cell_type": "code",
   "execution_count": 4,
   "id": "5f5fc192-a3b4-4a15-ad70-5d700ff18dd0",
   "metadata": {},
   "outputs": [
    {
     "data": {
      "text/plain": [
       "(950, 52)"
      ]
     },
     "execution_count": 4,
     "metadata": {},
     "output_type": "execute_result"
    }
   ],
   "source": [
    "df.shape"
   ]
  },
  {
   "cell_type": "markdown",
   "id": "a93c98b5-4b22-4626-a65e-43488ebc4978",
   "metadata": {},
   "source": [
    "# 3. Data Preparation \n",
    "Here we will perform certain steps to prepare data adequate for better analysis of it."
   ]
  },
  {
   "cell_type": "code",
   "execution_count": 5,
   "id": "e035367a-b256-4329-a742-ecc0075e7051",
   "metadata": {},
   "outputs": [
    {
     "name": "stdout",
     "output_type": "stream",
     "text": [
      "<class 'pandas.core.frame.DataFrame'>\n",
      "RangeIndex: 950 entries, 0 to 949\n",
      "Data columns (total 52 columns):\n",
      " #   Column                      Non-Null Count  Dtype \n",
      "---  ------                      --------------  ----- \n",
      " 0   awardYear                   950 non-null    int64 \n",
      " 1   category                    950 non-null    object\n",
      " 2   categoryFullName            950 non-null    object\n",
      " 3   sortOrder                   950 non-null    int64 \n",
      " 4   portion                     950 non-null    int64 \n",
      " 5   prizeAmount                 950 non-null    int64 \n",
      " 6   prizeAmountAdjusted         950 non-null    int64 \n",
      " 7   dateAwarded                 533 non-null    object\n",
      " 8   prizeStatus                 950 non-null    object\n",
      " 9   motivation                  950 non-null    object\n",
      " 10  categoryTopMotivation       20 non-null     object\n",
      " 11  award_link                  950 non-null    object\n",
      " 12  id                          950 non-null    int64 \n",
      " 13  name                        950 non-null    object\n",
      " 14  knownName                   923 non-null    object\n",
      " 15  givenName                   923 non-null    object\n",
      " 16  familyName                  921 non-null    object\n",
      " 17  fullName                    923 non-null    object\n",
      " 18  penName                     11 non-null     object\n",
      " 19  gender                      923 non-null    object\n",
      " 20  laureate_link               950 non-null    object\n",
      " 21  birth_date                  923 non-null    object\n",
      " 22  birth_city                  922 non-null    object\n",
      " 23  birth_cityNow               922 non-null    object\n",
      " 24  birth_continent             923 non-null    object\n",
      " 25  birth_country               923 non-null    object\n",
      " 26  birth_countryNow            923 non-null    object\n",
      " 27  birth_locationString        923 non-null    object\n",
      " 28  death_date                  630 non-null    object\n",
      " 29  death_city                  611 non-null    object\n",
      " 30  death_cityNow               611 non-null    object\n",
      " 31  death_continent             617 non-null    object\n",
      " 32  death_country               617 non-null    object\n",
      " 33  death_countryNow            617 non-null    object\n",
      " 34  death_locationString        618 non-null    object\n",
      " 35  orgName                     27 non-null     object\n",
      " 36  nativeName                  27 non-null     object\n",
      " 37  acronym                     11 non-null     object\n",
      " 38  org_founded_date            26 non-null     object\n",
      " 39  org_founded_city            22 non-null     object\n",
      " 40  org_founded_cityNow         22 non-null     object\n",
      " 41  org_founded_continent       24 non-null     object\n",
      " 42  org_founded_country         24 non-null     object\n",
      " 43  org_founded_countryNow      24 non-null     object\n",
      " 44  org_founded_locationString  24 non-null     object\n",
      " 45  ind_or_org                  950 non-null    object\n",
      " 46  residence_1                 219 non-null    object\n",
      " 47  residence_2                 2 non-null      object\n",
      " 48  affiliation_1               697 non-null    object\n",
      " 49  affiliation_2               67 non-null     object\n",
      " 50  affiliation_3               2 non-null      object\n",
      " 51  affiliation_4               1 non-null      object\n",
      "dtypes: int64(6), object(46)\n",
      "memory usage: 386.1+ KB\n"
     ]
    }
   ],
   "source": [
    "df.info()"
   ]
  },
  {
   "cell_type": "code",
   "execution_count": null,
   "id": "6149642b-ebbb-4486-9734-16d821024622",
   "metadata": {},
   "outputs": [],
   "source": []
  },
  {
   "cell_type": "code",
   "execution_count": 6,
   "id": "b8a57ba9-d1c1-4ee7-bf34-25ca6b99663a",
   "metadata": {},
   "outputs": [],
   "source": [
    "# Dropping unneccessary columns. \n",
    "\n",
    "df.drop(columns=['categoryFullName','sortOrder','prizeStatus','motivation',\n",
    "                 'categoryTopMotivation','award_link','knownName','givenName',\n",
    "                 'familyName','fullName','penName','laureate_link','birth_cityNow',\n",
    "                 'birth_countryNow','orgName','birth_locationString','death_city','death_cityNow',\n",
    "                 'death_continent','death_country','death_countryNow','death_locationString','nativeName',\n",
    "                 'acronym','org_founded_cityNow','org_founded_countryNow','org_founded_locationString',\n",
    "                 'residence_1','residence_2','affiliation_1','affiliation_2','affiliation_3','affiliation_4',\n",
    "                 'birth_city','org_founded_city'],inplace=True)"
   ]
  },
  {
   "cell_type": "code",
   "execution_count": 7,
   "id": "972520b7-27eb-4c6b-8646-3e8578b22ff4",
   "metadata": {},
   "outputs": [
    {
     "data": {
      "text/plain": [
       "(950, 17)"
      ]
     },
     "execution_count": 7,
     "metadata": {},
     "output_type": "execute_result"
    }
   ],
   "source": [
    "# shape after dropping the columns \n",
    "df.shape"
   ]
  },
  {
   "cell_type": "markdown",
   "id": "e1990ba1-27bc-4157-8379-098fdd29431d",
   "metadata": {},
   "source": [
    "We can see that for organizations gender coulmns has nan value which we will replace with value \"organization\"."
   ]
  },
  {
   "cell_type": "code",
   "execution_count": 8,
   "id": "125c3507-90bc-4b00-994c-8accca513d4f",
   "metadata": {},
   "outputs": [],
   "source": [
    "# Replacing the gender values for organistaions with NaN values.\n",
    "df['gender']=df['gender'].replace(np.nan,'organization')"
   ]
  },
  {
   "cell_type": "code",
   "execution_count": 9,
   "id": "b9f06386-d9af-45d8-8948-a4547bd9eed9",
   "metadata": {},
   "outputs": [
    {
     "data": {
      "text/plain": [
       "0"
      ]
     },
     "execution_count": 9,
     "metadata": {},
     "output_type": "execute_result"
    }
   ],
   "source": [
    "# Checking the number of nan values\n",
    "df.gender.isna().sum()"
   ]
  },
  {
   "cell_type": "markdown",
   "id": "e7016917-577d-48f4-80b4-84136e025426",
   "metadata": {},
   "source": [
    "Same problem with birth_date column of organization category so replacing with org_founded_date."
   ]
  },
  {
   "cell_type": "code",
   "execution_count": 10,
   "id": "c2ae2b43-7db0-4fd6-a25e-3c071381aa11",
   "metadata": {},
   "outputs": [],
   "source": [
    "# Here we use fillna() to transfer the value so that column to be filled with some legal values.\n",
    "df.birth_date.fillna(df.org_founded_date, inplace=True)\n",
    "del df['org_founded_date']     # deleting the org_founded_date"
   ]
  },
  {
   "cell_type": "code",
   "execution_count": 11,
   "id": "e1a25b7c-b062-456f-9795-d96d78e65c35",
   "metadata": {},
   "outputs": [
    {
     "data": {
      "text/plain": [
       "1"
      ]
     },
     "execution_count": 11,
     "metadata": {},
     "output_type": "execute_result"
    }
   ],
   "source": [
    "df['birth_date'].isna().sum()"
   ]
  },
  {
   "cell_type": "code",
   "execution_count": 12,
   "id": "02a11990-e247-4046-bc33-d162a7e288b7",
   "metadata": {},
   "outputs": [
    {
     "data": {
      "text/html": [
       "<div>\n",
       "<style scoped>\n",
       "    .dataframe tbody tr th:only-of-type {\n",
       "        vertical-align: middle;\n",
       "    }\n",
       "\n",
       "    .dataframe tbody tr th {\n",
       "        vertical-align: top;\n",
       "    }\n",
       "\n",
       "    .dataframe thead th {\n",
       "        text-align: right;\n",
       "    }\n",
       "</style>\n",
       "<table border=\"1\" class=\"dataframe\">\n",
       "  <thead>\n",
       "    <tr style=\"text-align: right;\">\n",
       "      <th></th>\n",
       "      <th>awardYear</th>\n",
       "      <th>category</th>\n",
       "      <th>portion</th>\n",
       "      <th>prizeAmount</th>\n",
       "      <th>prizeAmountAdjusted</th>\n",
       "      <th>dateAwarded</th>\n",
       "      <th>id</th>\n",
       "      <th>name</th>\n",
       "      <th>gender</th>\n",
       "      <th>birth_date</th>\n",
       "      <th>birth_continent</th>\n",
       "      <th>birth_country</th>\n",
       "      <th>death_date</th>\n",
       "      <th>org_founded_continent</th>\n",
       "      <th>org_founded_country</th>\n",
       "      <th>ind_or_org</th>\n",
       "    </tr>\n",
       "  </thead>\n",
       "  <tbody>\n",
       "    <tr>\n",
       "      <th>617</th>\n",
       "      <td>2015</td>\n",
       "      <td>Peace</td>\n",
       "      <td>1</td>\n",
       "      <td>8000000</td>\n",
       "      <td>8384572</td>\n",
       "      <td>09-10-15</td>\n",
       "      <td>925</td>\n",
       "      <td>National Dialogue Quartet</td>\n",
       "      <td>organization</td>\n",
       "      <td>NaN</td>\n",
       "      <td>NaN</td>\n",
       "      <td>NaN</td>\n",
       "      <td>NaN</td>\n",
       "      <td>NaN</td>\n",
       "      <td>NaN</td>\n",
       "      <td>Organization</td>\n",
       "    </tr>\n",
       "  </tbody>\n",
       "</table>\n",
       "</div>"
      ],
      "text/plain": [
       "     awardYear category  portion  prizeAmount  prizeAmountAdjusted  \\\n",
       "617       2015    Peace        1      8000000              8384572   \n",
       "\n",
       "    dateAwarded   id                        name        gender birth_date  \\\n",
       "617    09-10-15  925  National Dialogue Quartet   organization        NaN   \n",
       "\n",
       "    birth_continent birth_country death_date org_founded_continent  \\\n",
       "617             NaN           NaN        NaN                   NaN   \n",
       "\n",
       "    org_founded_country    ind_or_org  \n",
       "617                 NaN  Organization  "
      ]
     },
     "execution_count": 12,
     "metadata": {},
     "output_type": "execute_result"
    }
   ],
   "source": [
    "df[df['birth_date'].isna()]"
   ]
  },
  {
   "cell_type": "code",
   "execution_count": 13,
   "id": "f2649d88-e296-4643-9282-e0eeb5c88b32",
   "metadata": {},
   "outputs": [],
   "source": [
    "# To replace the value we can use repalce() method\n",
    "# Here you can give that NaN a value so that it would not later become a problem in data analysis\n",
    "df['birth_date']=df['birth_date'].replace(np.nan,'not specified')\n"
   ]
  },
  {
   "cell_type": "markdown",
   "id": "f18a905c-3dab-46c2-a0b1-9e68cd9a48a4",
   "metadata": {},
   "source": [
    "The thing that we done above can also be done on the cell below for replacing the values not adequate for analysis."
   ]
  },
  {
   "cell_type": "code",
   "execution_count": 14,
   "id": "4eb33ef3-ba03-4b0d-863f-11887ce50229",
   "metadata": {},
   "outputs": [],
   "source": [
    "df.birth_continent.fillna(df.org_founded_continent, inplace=True)\n",
    "del df['org_founded_continent'] "
   ]
  },
  {
   "cell_type": "code",
   "execution_count": 15,
   "id": "dbfeb1c9-15d1-4f8b-843e-06aae7e19e7a",
   "metadata": {},
   "outputs": [],
   "source": [
    "df['birth_continent']=df['birth_continent'].replace(np.nan,'not specified')"
   ]
  },
  {
   "cell_type": "code",
   "execution_count": 16,
   "id": "336dc61f-b0a6-4dca-9dd6-b6d4ecf2f68c",
   "metadata": {},
   "outputs": [],
   "source": [
    "df.birth_country.fillna(df.org_founded_country, inplace=True)\n",
    "del df['org_founded_country']"
   ]
  },
  {
   "cell_type": "code",
   "execution_count": 17,
   "id": "b9cb0db9-c7c0-4755-9cd3-0abdc0eb11bb",
   "metadata": {},
   "outputs": [],
   "source": [
    "df['birth_country']=df['birth_country'].replace(np.nan,'not specified')"
   ]
  },
  {
   "cell_type": "code",
   "execution_count": 18,
   "id": "5948f7b5-8ce0-49cf-a96a-e808ba48897f",
   "metadata": {},
   "outputs": [],
   "source": [
    "df['death_date']=df['death_date'].replace(np.nan,'not dead or organization')\n"
   ]
  },
  {
   "cell_type": "code",
   "execution_count": 19,
   "id": "d46ca271-8f3a-4e35-8b90-a4eda227cd3f",
   "metadata": {},
   "outputs": [],
   "source": [
    "df=df.rename(columns={\"awardYear\":\"award_year\", \"portion\":\"share\", \"prizeAmount\":\"prize_amount\", \n",
    "                      \"prizeAmountAdjusted\":\"prize_amount_adjusted\", \n",
    "                      \"dateAwarded\":\"date_awarded\",\"id\":\"laureate_id\", \"ind_or_org\":\"type\"});\n"
   ]
  },
  {
   "cell_type": "code",
   "execution_count": 20,
   "id": "e2374dfd-6c14-4907-a36c-ac44f04b069c",
   "metadata": {},
   "outputs": [],
   "source": [
    "df['date_awarded']=df['date_awarded'].replace(np.nan,'not specified')\n"
   ]
  },
  {
   "cell_type": "code",
   "execution_count": 21,
   "id": "30daa8d8-ec03-42fe-9804-c77d51e3228a",
   "metadata": {},
   "outputs": [
    {
     "data": {
      "text/html": [
       "<div>\n",
       "<style scoped>\n",
       "    .dataframe tbody tr th:only-of-type {\n",
       "        vertical-align: middle;\n",
       "    }\n",
       "\n",
       "    .dataframe tbody tr th {\n",
       "        vertical-align: top;\n",
       "    }\n",
       "\n",
       "    .dataframe thead th {\n",
       "        text-align: right;\n",
       "    }\n",
       "</style>\n",
       "<table border=\"1\" class=\"dataframe\">\n",
       "  <thead>\n",
       "    <tr style=\"text-align: right;\">\n",
       "      <th></th>\n",
       "      <th>award_year</th>\n",
       "      <th>category</th>\n",
       "      <th>share</th>\n",
       "      <th>prize_amount</th>\n",
       "      <th>prize_amount_adjusted</th>\n",
       "      <th>date_awarded</th>\n",
       "      <th>laureate_id</th>\n",
       "      <th>name</th>\n",
       "      <th>gender</th>\n",
       "      <th>birth_date</th>\n",
       "      <th>birth_continent</th>\n",
       "      <th>birth_country</th>\n",
       "      <th>death_date</th>\n",
       "      <th>type</th>\n",
       "    </tr>\n",
       "  </thead>\n",
       "  <tbody>\n",
       "    <tr>\n",
       "      <th>0</th>\n",
       "      <td>2001</td>\n",
       "      <td>Economic Sciences</td>\n",
       "      <td>3</td>\n",
       "      <td>10000000</td>\n",
       "      <td>12295082</td>\n",
       "      <td>10-10-01</td>\n",
       "      <td>745</td>\n",
       "      <td>A. Michael Spence</td>\n",
       "      <td>male</td>\n",
       "      <td>1943-07-11</td>\n",
       "      <td>North America</td>\n",
       "      <td>USA</td>\n",
       "      <td>not dead or organization</td>\n",
       "      <td>Individual</td>\n",
       "    </tr>\n",
       "    <tr>\n",
       "      <th>1</th>\n",
       "      <td>1975</td>\n",
       "      <td>Physics</td>\n",
       "      <td>3</td>\n",
       "      <td>630000</td>\n",
       "      <td>3404179</td>\n",
       "      <td>17-10-75</td>\n",
       "      <td>102</td>\n",
       "      <td>Aage N. Bohr</td>\n",
       "      <td>male</td>\n",
       "      <td>1922-06-19</td>\n",
       "      <td>Europe</td>\n",
       "      <td>Denmark</td>\n",
       "      <td>08-09-09</td>\n",
       "      <td>Individual</td>\n",
       "    </tr>\n",
       "    <tr>\n",
       "      <th>2</th>\n",
       "      <td>2004</td>\n",
       "      <td>Chemistry</td>\n",
       "      <td>3</td>\n",
       "      <td>10000000</td>\n",
       "      <td>11762861</td>\n",
       "      <td>06-10-04</td>\n",
       "      <td>779</td>\n",
       "      <td>Aaron Ciechanover</td>\n",
       "      <td>male</td>\n",
       "      <td>1947-10-01</td>\n",
       "      <td>Asia</td>\n",
       "      <td>British Protectorate of Palestine</td>\n",
       "      <td>not dead or organization</td>\n",
       "      <td>Individual</td>\n",
       "    </tr>\n",
       "    <tr>\n",
       "      <th>3</th>\n",
       "      <td>1982</td>\n",
       "      <td>Chemistry</td>\n",
       "      <td>1</td>\n",
       "      <td>1150000</td>\n",
       "      <td>3102518</td>\n",
       "      <td>18-10-82</td>\n",
       "      <td>259</td>\n",
       "      <td>Aaron Klug</td>\n",
       "      <td>male</td>\n",
       "      <td>1926-08-11</td>\n",
       "      <td>Europe</td>\n",
       "      <td>Lithuania</td>\n",
       "      <td>20-11-18</td>\n",
       "      <td>Individual</td>\n",
       "    </tr>\n",
       "    <tr>\n",
       "      <th>4</th>\n",
       "      <td>1979</td>\n",
       "      <td>Physics</td>\n",
       "      <td>3</td>\n",
       "      <td>800000</td>\n",
       "      <td>2988048</td>\n",
       "      <td>15-10-79</td>\n",
       "      <td>114</td>\n",
       "      <td>Abdus Salam</td>\n",
       "      <td>male</td>\n",
       "      <td>1926-01-29</td>\n",
       "      <td>Asia</td>\n",
       "      <td>India</td>\n",
       "      <td>21-11-96</td>\n",
       "      <td>Individual</td>\n",
       "    </tr>\n",
       "    <tr>\n",
       "      <th>...</th>\n",
       "      <td>...</td>\n",
       "      <td>...</td>\n",
       "      <td>...</td>\n",
       "      <td>...</td>\n",
       "      <td>...</td>\n",
       "      <td>...</td>\n",
       "      <td>...</td>\n",
       "      <td>...</td>\n",
       "      <td>...</td>\n",
       "      <td>...</td>\n",
       "      <td>...</td>\n",
       "      <td>...</td>\n",
       "      <td>...</td>\n",
       "      <td>...</td>\n",
       "    </tr>\n",
       "    <tr>\n",
       "      <th>945</th>\n",
       "      <td>1972</td>\n",
       "      <td>Physics</td>\n",
       "      <td>3</td>\n",
       "      <td>480000</td>\n",
       "      <td>3345725</td>\n",
       "      <td>not specified</td>\n",
       "      <td>66</td>\n",
       "      <td>John Bardeen</td>\n",
       "      <td>male</td>\n",
       "      <td>1908-05-23</td>\n",
       "      <td>North America</td>\n",
       "      <td>USA</td>\n",
       "      <td>30-01-91</td>\n",
       "      <td>Individual</td>\n",
       "    </tr>\n",
       "    <tr>\n",
       "      <th>946</th>\n",
       "      <td>1954</td>\n",
       "      <td>Chemistry</td>\n",
       "      <td>1</td>\n",
       "      <td>181647</td>\n",
       "      <td>2640218</td>\n",
       "      <td>not specified</td>\n",
       "      <td>217</td>\n",
       "      <td>Linus Pauling</td>\n",
       "      <td>male</td>\n",
       "      <td>1901-02-28</td>\n",
       "      <td>North America</td>\n",
       "      <td>USA</td>\n",
       "      <td>19-08-94</td>\n",
       "      <td>Individual</td>\n",
       "    </tr>\n",
       "    <tr>\n",
       "      <th>947</th>\n",
       "      <td>1911</td>\n",
       "      <td>Chemistry</td>\n",
       "      <td>1</td>\n",
       "      <td>140695</td>\n",
       "      <td>7327865</td>\n",
       "      <td>not specified</td>\n",
       "      <td>6</td>\n",
       "      <td>Marie Curie</td>\n",
       "      <td>female</td>\n",
       "      <td>1867-11-07</td>\n",
       "      <td>Europe</td>\n",
       "      <td>Russian Empire</td>\n",
       "      <td>04-07-34</td>\n",
       "      <td>Individual</td>\n",
       "    </tr>\n",
       "    <tr>\n",
       "      <th>948</th>\n",
       "      <td>1981</td>\n",
       "      <td>Peace</td>\n",
       "      <td>1</td>\n",
       "      <td>1000000</td>\n",
       "      <td>2929688</td>\n",
       "      <td>14-10-81</td>\n",
       "      <td>515</td>\n",
       "      <td>Office of the United Nations High Commissioner...</td>\n",
       "      <td>organization</td>\n",
       "      <td>1951-00-00</td>\n",
       "      <td>Europe</td>\n",
       "      <td>Switzerland</td>\n",
       "      <td>not dead or organization</td>\n",
       "      <td>Organization</td>\n",
       "    </tr>\n",
       "    <tr>\n",
       "      <th>949</th>\n",
       "      <td>1963</td>\n",
       "      <td>Peace</td>\n",
       "      <td>2</td>\n",
       "      <td>265000</td>\n",
       "      <td>2839286</td>\n",
       "      <td>10-10-63</td>\n",
       "      <td>482</td>\n",
       "      <td>International Committee of the Red Cross</td>\n",
       "      <td>organization</td>\n",
       "      <td>1863-00-00</td>\n",
       "      <td>Europe</td>\n",
       "      <td>Switzerland</td>\n",
       "      <td>not dead or organization</td>\n",
       "      <td>Organization</td>\n",
       "    </tr>\n",
       "  </tbody>\n",
       "</table>\n",
       "<p>950 rows × 14 columns</p>\n",
       "</div>"
      ],
      "text/plain": [
       "     award_year           category  share  prize_amount  \\\n",
       "0          2001  Economic Sciences      3      10000000   \n",
       "1          1975            Physics      3        630000   \n",
       "2          2004          Chemistry      3      10000000   \n",
       "3          1982          Chemistry      1       1150000   \n",
       "4          1979            Physics      3        800000   \n",
       "..          ...                ...    ...           ...   \n",
       "945        1972            Physics      3        480000   \n",
       "946        1954          Chemistry      1        181647   \n",
       "947        1911          Chemistry      1        140695   \n",
       "948        1981              Peace      1       1000000   \n",
       "949        1963              Peace      2        265000   \n",
       "\n",
       "     prize_amount_adjusted   date_awarded  laureate_id  \\\n",
       "0                 12295082       10-10-01          745   \n",
       "1                  3404179       17-10-75          102   \n",
       "2                 11762861       06-10-04          779   \n",
       "3                  3102518       18-10-82          259   \n",
       "4                  2988048       15-10-79          114   \n",
       "..                     ...            ...          ...   \n",
       "945                3345725  not specified           66   \n",
       "946                2640218  not specified          217   \n",
       "947                7327865  not specified            6   \n",
       "948                2929688       14-10-81          515   \n",
       "949                2839286       10-10-63          482   \n",
       "\n",
       "                                                  name        gender  \\\n",
       "0                                    A. Michael Spence          male   \n",
       "1                                         Aage N. Bohr          male   \n",
       "2                                    Aaron Ciechanover          male   \n",
       "3                                           Aaron Klug          male   \n",
       "4                                          Abdus Salam          male   \n",
       "..                                                 ...           ...   \n",
       "945                                       John Bardeen          male   \n",
       "946                                      Linus Pauling          male   \n",
       "947                                        Marie Curie        female   \n",
       "948  Office of the United Nations High Commissioner...  organization   \n",
       "949           International Committee of the Red Cross  organization   \n",
       "\n",
       "     birth_date birth_continent                      birth_country  \\\n",
       "0    1943-07-11   North America                                USA   \n",
       "1    1922-06-19          Europe                            Denmark   \n",
       "2    1947-10-01            Asia  British Protectorate of Palestine   \n",
       "3    1926-08-11          Europe                          Lithuania   \n",
       "4    1926-01-29            Asia                              India   \n",
       "..          ...             ...                                ...   \n",
       "945  1908-05-23   North America                                USA   \n",
       "946  1901-02-28   North America                                USA   \n",
       "947  1867-11-07          Europe                     Russian Empire   \n",
       "948  1951-00-00          Europe                        Switzerland   \n",
       "949  1863-00-00          Europe                        Switzerland   \n",
       "\n",
       "                   death_date          type  \n",
       "0    not dead or organization    Individual  \n",
       "1                    08-09-09    Individual  \n",
       "2    not dead or organization    Individual  \n",
       "3                    20-11-18    Individual  \n",
       "4                    21-11-96    Individual  \n",
       "..                        ...           ...  \n",
       "945                  30-01-91    Individual  \n",
       "946                  19-08-94    Individual  \n",
       "947                  04-07-34    Individual  \n",
       "948  not dead or organization  Organization  \n",
       "949  not dead or organization  Organization  \n",
       "\n",
       "[950 rows x 14 columns]"
      ]
     },
     "execution_count": 21,
     "metadata": {},
     "output_type": "execute_result"
    }
   ],
   "source": [
    "df"
   ]
  },
  {
   "cell_type": "markdown",
   "id": "ff2dbde6-4dff-427c-9d2e-ea17e122398a",
   "metadata": {},
   "source": [
    "Now checking the data whether it has null values or not."
   ]
  },
  {
   "cell_type": "code",
   "execution_count": 22,
   "id": "ba372d0b-01e9-41fe-a75d-2b1a1d721cb9",
   "metadata": {},
   "outputs": [
    {
     "data": {
      "text/plain": [
       "award_year               0\n",
       "category                 0\n",
       "share                    0\n",
       "prize_amount             0\n",
       "prize_amount_adjusted    0\n",
       "date_awarded             0\n",
       "laureate_id              0\n",
       "name                     0\n",
       "gender                   0\n",
       "birth_date               0\n",
       "birth_continent          0\n",
       "birth_country            0\n",
       "death_date               0\n",
       "type                     0\n",
       "dtype: int64"
      ]
     },
     "execution_count": 22,
     "metadata": {},
     "output_type": "execute_result"
    }
   ],
   "source": [
    "df.isnull().sum()"
   ]
  },
  {
   "cell_type": "markdown",
   "id": "5692bc1f-f881-409e-80ad-fafb597ba14f",
   "metadata": {},
   "source": [
    "Now adding the data of laureates for 2020 which was missing in our dataset."
   ]
  },
  {
   "cell_type": "code",
   "execution_count": 23,
   "id": "aec09381-5cb3-45b7-b9a1-9bee37fb569c",
   "metadata": {},
   "outputs": [],
   "source": [
    "df2= pd.DataFrame({\"award_year\":[2020,2020,2020,2020,2020,2020,2020,2020,2020,2020],\n",
    "\"category\":['Physiology or Medicine','Physiology or Medicine','Physiology or Medicine','Physics','Physics','Physics','Chemistry','Chemistry','Literature','Peace'],\n",
    "\"share\":['1/3','1/3','1/3','1/2','1/4','1/4','1/2','1/2','1','1'],\n",
    "\"prize_amount\":['not specified','not specified','not specified','not specified','not specified','not specified','not specified','not specified','not specified','not specified'],\n",
    "\"prize_amount_adjusted\":['not specified','not specified','not specified','not specified','not specified','not specified','not specified','not specified','not specified','not specified'],\n",
    "\"date_awarded\":['2020-10-05','2020-10-05','2020-10-05','2020-10-06','2020-10-06','2020-10-06','2020-10-07','2020-10-07','2020-10-08','2020-10-09'],\n",
    "\"laureate_id\":['not specified','not specified','not specified','not specified','not specified','not specified','not specified','not specified','not specified','not specified'],\n",
    "\"name\":['Michael Houghton','Harvey J. Alter','Charls M. Rice','Roger Penrose','Reinhard Genzel','Andrea M. Ghez','Jennifer Doudna','Emmanuelle Charpentier','Louise Glück','World Food Programme'],\n",
    "\"gender\":['male','male','male','male','male','female','female','female','female','organization'],\n",
    "\"birth_date\":['1949-01-01','1935-09-12','1952-08-25','1931-08-08','1952-03-24','1965-06-16','1964-02-19','1968-12-11','1943-04-22','1961-12-19'],\n",
    "\"birth_continent\":['Europe','North America','North America','Europe','Europe','Europe','North America','Europe','North America','North America'],\"birth_country\":['United Kingdom','USA','USA','United Kingdom','Germany','USA','USA','France','USA','USA'],\n",
    "\"death_date\":['not dead or organization','not dead or organization','not dead or organization','not dead or organization','not dead or organization','not dead or organization','not dead or organization','not dead or organization','not dead or organization','not dead or organization'],\n",
    "\"type\":['Individual','Individual','Individual','Individual','Individual','Individual','Individual','Individual','Individual','Organization']})\n"
   ]
  },
  {
   "cell_type": "code",
   "execution_count": 24,
   "id": "a0f5ea56-bf32-4fb3-9193-b1bc5c1bc155",
   "metadata": {},
   "outputs": [
    {
     "name": "stderr",
     "output_type": "stream",
     "text": [
      "C:\\Users\\lenovo\\AppData\\Local\\Temp\\ipykernel_21168\\799868226.py:1: FutureWarning: The frame.append method is deprecated and will be removed from pandas in a future version. Use pandas.concat instead.\n",
      "  df=df.append(df2)\n"
     ]
    }
   ],
   "source": [
    "df=df.append(df2)"
   ]
  },
  {
   "cell_type": "code",
   "execution_count": 25,
   "id": "601a66c4-77c3-4b20-b128-84eab7c11aa2",
   "metadata": {},
   "outputs": [
    {
     "data": {
      "text/html": [
       "<div>\n",
       "<style scoped>\n",
       "    .dataframe tbody tr th:only-of-type {\n",
       "        vertical-align: middle;\n",
       "    }\n",
       "\n",
       "    .dataframe tbody tr th {\n",
       "        vertical-align: top;\n",
       "    }\n",
       "\n",
       "    .dataframe thead th {\n",
       "        text-align: right;\n",
       "    }\n",
       "</style>\n",
       "<table border=\"1\" class=\"dataframe\">\n",
       "  <thead>\n",
       "    <tr style=\"text-align: right;\">\n",
       "      <th></th>\n",
       "      <th>award_year</th>\n",
       "      <th>category</th>\n",
       "      <th>share</th>\n",
       "      <th>prize_amount</th>\n",
       "      <th>prize_amount_adjusted</th>\n",
       "      <th>date_awarded</th>\n",
       "      <th>laureate_id</th>\n",
       "      <th>name</th>\n",
       "      <th>gender</th>\n",
       "      <th>birth_date</th>\n",
       "      <th>birth_continent</th>\n",
       "      <th>birth_country</th>\n",
       "      <th>death_date</th>\n",
       "      <th>type</th>\n",
       "    </tr>\n",
       "  </thead>\n",
       "  <tbody>\n",
       "    <tr>\n",
       "      <th>0</th>\n",
       "      <td>2001</td>\n",
       "      <td>Economic Sciences</td>\n",
       "      <td>3</td>\n",
       "      <td>10000000</td>\n",
       "      <td>12295082</td>\n",
       "      <td>10-10-01</td>\n",
       "      <td>745</td>\n",
       "      <td>A. Michael Spence</td>\n",
       "      <td>male</td>\n",
       "      <td>1943-07-11</td>\n",
       "      <td>North America</td>\n",
       "      <td>USA</td>\n",
       "      <td>not dead or organization</td>\n",
       "      <td>Individual</td>\n",
       "    </tr>\n",
       "    <tr>\n",
       "      <th>1</th>\n",
       "      <td>1975</td>\n",
       "      <td>Physics</td>\n",
       "      <td>3</td>\n",
       "      <td>630000</td>\n",
       "      <td>3404179</td>\n",
       "      <td>17-10-75</td>\n",
       "      <td>102</td>\n",
       "      <td>Aage N. Bohr</td>\n",
       "      <td>male</td>\n",
       "      <td>1922-06-19</td>\n",
       "      <td>Europe</td>\n",
       "      <td>Denmark</td>\n",
       "      <td>08-09-09</td>\n",
       "      <td>Individual</td>\n",
       "    </tr>\n",
       "    <tr>\n",
       "      <th>2</th>\n",
       "      <td>2004</td>\n",
       "      <td>Chemistry</td>\n",
       "      <td>3</td>\n",
       "      <td>10000000</td>\n",
       "      <td>11762861</td>\n",
       "      <td>06-10-04</td>\n",
       "      <td>779</td>\n",
       "      <td>Aaron Ciechanover</td>\n",
       "      <td>male</td>\n",
       "      <td>1947-10-01</td>\n",
       "      <td>Asia</td>\n",
       "      <td>British Protectorate of Palestine</td>\n",
       "      <td>not dead or organization</td>\n",
       "      <td>Individual</td>\n",
       "    </tr>\n",
       "    <tr>\n",
       "      <th>3</th>\n",
       "      <td>1982</td>\n",
       "      <td>Chemistry</td>\n",
       "      <td>1</td>\n",
       "      <td>1150000</td>\n",
       "      <td>3102518</td>\n",
       "      <td>18-10-82</td>\n",
       "      <td>259</td>\n",
       "      <td>Aaron Klug</td>\n",
       "      <td>male</td>\n",
       "      <td>1926-08-11</td>\n",
       "      <td>Europe</td>\n",
       "      <td>Lithuania</td>\n",
       "      <td>20-11-18</td>\n",
       "      <td>Individual</td>\n",
       "    </tr>\n",
       "    <tr>\n",
       "      <th>4</th>\n",
       "      <td>1979</td>\n",
       "      <td>Physics</td>\n",
       "      <td>3</td>\n",
       "      <td>800000</td>\n",
       "      <td>2988048</td>\n",
       "      <td>15-10-79</td>\n",
       "      <td>114</td>\n",
       "      <td>Abdus Salam</td>\n",
       "      <td>male</td>\n",
       "      <td>1926-01-29</td>\n",
       "      <td>Asia</td>\n",
       "      <td>India</td>\n",
       "      <td>21-11-96</td>\n",
       "      <td>Individual</td>\n",
       "    </tr>\n",
       "    <tr>\n",
       "      <th>...</th>\n",
       "      <td>...</td>\n",
       "      <td>...</td>\n",
       "      <td>...</td>\n",
       "      <td>...</td>\n",
       "      <td>...</td>\n",
       "      <td>...</td>\n",
       "      <td>...</td>\n",
       "      <td>...</td>\n",
       "      <td>...</td>\n",
       "      <td>...</td>\n",
       "      <td>...</td>\n",
       "      <td>...</td>\n",
       "      <td>...</td>\n",
       "      <td>...</td>\n",
       "    </tr>\n",
       "    <tr>\n",
       "      <th>5</th>\n",
       "      <td>2020</td>\n",
       "      <td>Physics</td>\n",
       "      <td>1/4</td>\n",
       "      <td>not specified</td>\n",
       "      <td>not specified</td>\n",
       "      <td>2020-10-06</td>\n",
       "      <td>not specified</td>\n",
       "      <td>Andrea M. Ghez</td>\n",
       "      <td>female</td>\n",
       "      <td>1965-06-16</td>\n",
       "      <td>Europe</td>\n",
       "      <td>USA</td>\n",
       "      <td>not dead or organization</td>\n",
       "      <td>Individual</td>\n",
       "    </tr>\n",
       "    <tr>\n",
       "      <th>6</th>\n",
       "      <td>2020</td>\n",
       "      <td>Chemistry</td>\n",
       "      <td>1/2</td>\n",
       "      <td>not specified</td>\n",
       "      <td>not specified</td>\n",
       "      <td>2020-10-07</td>\n",
       "      <td>not specified</td>\n",
       "      <td>Jennifer Doudna</td>\n",
       "      <td>female</td>\n",
       "      <td>1964-02-19</td>\n",
       "      <td>North America</td>\n",
       "      <td>USA</td>\n",
       "      <td>not dead or organization</td>\n",
       "      <td>Individual</td>\n",
       "    </tr>\n",
       "    <tr>\n",
       "      <th>7</th>\n",
       "      <td>2020</td>\n",
       "      <td>Chemistry</td>\n",
       "      <td>1/2</td>\n",
       "      <td>not specified</td>\n",
       "      <td>not specified</td>\n",
       "      <td>2020-10-07</td>\n",
       "      <td>not specified</td>\n",
       "      <td>Emmanuelle Charpentier</td>\n",
       "      <td>female</td>\n",
       "      <td>1968-12-11</td>\n",
       "      <td>Europe</td>\n",
       "      <td>France</td>\n",
       "      <td>not dead or organization</td>\n",
       "      <td>Individual</td>\n",
       "    </tr>\n",
       "    <tr>\n",
       "      <th>8</th>\n",
       "      <td>2020</td>\n",
       "      <td>Literature</td>\n",
       "      <td>1</td>\n",
       "      <td>not specified</td>\n",
       "      <td>not specified</td>\n",
       "      <td>2020-10-08</td>\n",
       "      <td>not specified</td>\n",
       "      <td>Louise Glück</td>\n",
       "      <td>female</td>\n",
       "      <td>1943-04-22</td>\n",
       "      <td>North America</td>\n",
       "      <td>USA</td>\n",
       "      <td>not dead or organization</td>\n",
       "      <td>Individual</td>\n",
       "    </tr>\n",
       "    <tr>\n",
       "      <th>9</th>\n",
       "      <td>2020</td>\n",
       "      <td>Peace</td>\n",
       "      <td>1</td>\n",
       "      <td>not specified</td>\n",
       "      <td>not specified</td>\n",
       "      <td>2020-10-09</td>\n",
       "      <td>not specified</td>\n",
       "      <td>World Food Programme</td>\n",
       "      <td>organization</td>\n",
       "      <td>1961-12-19</td>\n",
       "      <td>North America</td>\n",
       "      <td>USA</td>\n",
       "      <td>not dead or organization</td>\n",
       "      <td>Organization</td>\n",
       "    </tr>\n",
       "  </tbody>\n",
       "</table>\n",
       "<p>960 rows × 14 columns</p>\n",
       "</div>"
      ],
      "text/plain": [
       "    award_year           category share   prize_amount prize_amount_adjusted  \\\n",
       "0         2001  Economic Sciences     3       10000000              12295082   \n",
       "1         1975            Physics     3         630000               3404179   \n",
       "2         2004          Chemistry     3       10000000              11762861   \n",
       "3         1982          Chemistry     1        1150000               3102518   \n",
       "4         1979            Physics     3         800000               2988048   \n",
       "..         ...                ...   ...            ...                   ...   \n",
       "5         2020            Physics   1/4  not specified         not specified   \n",
       "6         2020          Chemistry   1/2  not specified         not specified   \n",
       "7         2020          Chemistry   1/2  not specified         not specified   \n",
       "8         2020         Literature     1  not specified         not specified   \n",
       "9         2020              Peace     1  not specified         not specified   \n",
       "\n",
       "   date_awarded    laureate_id                    name        gender  \\\n",
       "0      10-10-01            745       A. Michael Spence          male   \n",
       "1      17-10-75            102            Aage N. Bohr          male   \n",
       "2      06-10-04            779       Aaron Ciechanover          male   \n",
       "3      18-10-82            259              Aaron Klug          male   \n",
       "4      15-10-79            114             Abdus Salam          male   \n",
       "..          ...            ...                     ...           ...   \n",
       "5    2020-10-06  not specified          Andrea M. Ghez        female   \n",
       "6    2020-10-07  not specified         Jennifer Doudna        female   \n",
       "7    2020-10-07  not specified  Emmanuelle Charpentier        female   \n",
       "8    2020-10-08  not specified            Louise Glück        female   \n",
       "9    2020-10-09  not specified    World Food Programme  organization   \n",
       "\n",
       "    birth_date birth_continent                      birth_country  \\\n",
       "0   1943-07-11   North America                                USA   \n",
       "1   1922-06-19          Europe                            Denmark   \n",
       "2   1947-10-01            Asia  British Protectorate of Palestine   \n",
       "3   1926-08-11          Europe                          Lithuania   \n",
       "4   1926-01-29            Asia                              India   \n",
       "..         ...             ...                                ...   \n",
       "5   1965-06-16          Europe                                USA   \n",
       "6   1964-02-19   North America                                USA   \n",
       "7   1968-12-11          Europe                             France   \n",
       "8   1943-04-22   North America                                USA   \n",
       "9   1961-12-19   North America                                USA   \n",
       "\n",
       "                  death_date          type  \n",
       "0   not dead or organization    Individual  \n",
       "1                   08-09-09    Individual  \n",
       "2   not dead or organization    Individual  \n",
       "3                   20-11-18    Individual  \n",
       "4                   21-11-96    Individual  \n",
       "..                       ...           ...  \n",
       "5   not dead or organization    Individual  \n",
       "6   not dead or organization    Individual  \n",
       "7   not dead or organization    Individual  \n",
       "8   not dead or organization    Individual  \n",
       "9   not dead or organization  Organization  \n",
       "\n",
       "[960 rows x 14 columns]"
      ]
     },
     "execution_count": 25,
     "metadata": {},
     "output_type": "execute_result"
    }
   ],
   "source": [
    "df"
   ]
  },
  {
   "cell_type": "code",
   "execution_count": 26,
   "id": "6cb2ca53-991d-4a61-9a55-ca998fc1f1c6",
   "metadata": {},
   "outputs": [],
   "source": [
    "# saved the refined dataset \n",
    "df.to_csv('nobel_prize_data.csv', index=None)"
   ]
  },
  {
   "cell_type": "code",
   "execution_count": null,
   "id": "7cad8954-2c01-43c2-abf3-3b15cb8231d9",
   "metadata": {},
   "outputs": [],
   "source": []
  },
  {
   "cell_type": "markdown",
   "id": "93606111-123f-403f-beec-5c21b2601609",
   "metadata": {},
   "source": [
    "# 4. Exploratory Data Analysis and Visualization.\n",
    "Here we will do some important EDA and visualization for getting significant insights."
   ]
  },
  {
   "cell_type": "code",
   "execution_count": null,
   "id": "d1a08680-3642-4806-97d8-63ef5dc71dff",
   "metadata": {},
   "outputs": [],
   "source": []
  },
  {
   "cell_type": "code",
   "execution_count": 27,
   "id": "4d2f5c37-027c-4fb8-a8bd-cea3ddbdd447",
   "metadata": {},
   "outputs": [
    {
     "data": {
      "text/html": [
       "<div>\n",
       "<style scoped>\n",
       "    .dataframe tbody tr th:only-of-type {\n",
       "        vertical-align: middle;\n",
       "    }\n",
       "\n",
       "    .dataframe tbody tr th {\n",
       "        vertical-align: top;\n",
       "    }\n",
       "\n",
       "    .dataframe thead th {\n",
       "        text-align: right;\n",
       "    }\n",
       "</style>\n",
       "<table border=\"1\" class=\"dataframe\">\n",
       "  <thead>\n",
       "    <tr style=\"text-align: right;\">\n",
       "      <th></th>\n",
       "      <th>award_year</th>\n",
       "      <th>category</th>\n",
       "      <th>share</th>\n",
       "      <th>prize_amount</th>\n",
       "      <th>prize_amount_adjusted</th>\n",
       "      <th>date_awarded</th>\n",
       "      <th>laureate_id</th>\n",
       "      <th>name</th>\n",
       "      <th>gender</th>\n",
       "      <th>birth_date</th>\n",
       "      <th>birth_continent</th>\n",
       "      <th>birth_country</th>\n",
       "      <th>death_date</th>\n",
       "      <th>type</th>\n",
       "    </tr>\n",
       "  </thead>\n",
       "  <tbody>\n",
       "    <tr>\n",
       "      <th>0</th>\n",
       "      <td>2001</td>\n",
       "      <td>Economic Sciences</td>\n",
       "      <td>3</td>\n",
       "      <td>10000000</td>\n",
       "      <td>12295082</td>\n",
       "      <td>10-10-01</td>\n",
       "      <td>745</td>\n",
       "      <td>A. Michael Spence</td>\n",
       "      <td>male</td>\n",
       "      <td>1943-07-11</td>\n",
       "      <td>North America</td>\n",
       "      <td>USA</td>\n",
       "      <td>not dead or organization</td>\n",
       "      <td>Individual</td>\n",
       "    </tr>\n",
       "    <tr>\n",
       "      <th>1</th>\n",
       "      <td>1975</td>\n",
       "      <td>Physics</td>\n",
       "      <td>3</td>\n",
       "      <td>630000</td>\n",
       "      <td>3404179</td>\n",
       "      <td>17-10-75</td>\n",
       "      <td>102</td>\n",
       "      <td>Aage N. Bohr</td>\n",
       "      <td>male</td>\n",
       "      <td>1922-06-19</td>\n",
       "      <td>Europe</td>\n",
       "      <td>Denmark</td>\n",
       "      <td>08-09-09</td>\n",
       "      <td>Individual</td>\n",
       "    </tr>\n",
       "    <tr>\n",
       "      <th>2</th>\n",
       "      <td>2004</td>\n",
       "      <td>Chemistry</td>\n",
       "      <td>3</td>\n",
       "      <td>10000000</td>\n",
       "      <td>11762861</td>\n",
       "      <td>06-10-04</td>\n",
       "      <td>779</td>\n",
       "      <td>Aaron Ciechanover</td>\n",
       "      <td>male</td>\n",
       "      <td>1947-10-01</td>\n",
       "      <td>Asia</td>\n",
       "      <td>British Protectorate of Palestine</td>\n",
       "      <td>not dead or organization</td>\n",
       "      <td>Individual</td>\n",
       "    </tr>\n",
       "    <tr>\n",
       "      <th>3</th>\n",
       "      <td>1982</td>\n",
       "      <td>Chemistry</td>\n",
       "      <td>1</td>\n",
       "      <td>1150000</td>\n",
       "      <td>3102518</td>\n",
       "      <td>18-10-82</td>\n",
       "      <td>259</td>\n",
       "      <td>Aaron Klug</td>\n",
       "      <td>male</td>\n",
       "      <td>1926-08-11</td>\n",
       "      <td>Europe</td>\n",
       "      <td>Lithuania</td>\n",
       "      <td>20-11-18</td>\n",
       "      <td>Individual</td>\n",
       "    </tr>\n",
       "    <tr>\n",
       "      <th>4</th>\n",
       "      <td>1979</td>\n",
       "      <td>Physics</td>\n",
       "      <td>3</td>\n",
       "      <td>800000</td>\n",
       "      <td>2988048</td>\n",
       "      <td>15-10-79</td>\n",
       "      <td>114</td>\n",
       "      <td>Abdus Salam</td>\n",
       "      <td>male</td>\n",
       "      <td>1926-01-29</td>\n",
       "      <td>Asia</td>\n",
       "      <td>India</td>\n",
       "      <td>21-11-96</td>\n",
       "      <td>Individual</td>\n",
       "    </tr>\n",
       "    <tr>\n",
       "      <th>...</th>\n",
       "      <td>...</td>\n",
       "      <td>...</td>\n",
       "      <td>...</td>\n",
       "      <td>...</td>\n",
       "      <td>...</td>\n",
       "      <td>...</td>\n",
       "      <td>...</td>\n",
       "      <td>...</td>\n",
       "      <td>...</td>\n",
       "      <td>...</td>\n",
       "      <td>...</td>\n",
       "      <td>...</td>\n",
       "      <td>...</td>\n",
       "      <td>...</td>\n",
       "    </tr>\n",
       "    <tr>\n",
       "      <th>5</th>\n",
       "      <td>2020</td>\n",
       "      <td>Physics</td>\n",
       "      <td>1/4</td>\n",
       "      <td>not specified</td>\n",
       "      <td>not specified</td>\n",
       "      <td>2020-10-06</td>\n",
       "      <td>not specified</td>\n",
       "      <td>Andrea M. Ghez</td>\n",
       "      <td>female</td>\n",
       "      <td>1965-06-16</td>\n",
       "      <td>Europe</td>\n",
       "      <td>USA</td>\n",
       "      <td>not dead or organization</td>\n",
       "      <td>Individual</td>\n",
       "    </tr>\n",
       "    <tr>\n",
       "      <th>6</th>\n",
       "      <td>2020</td>\n",
       "      <td>Chemistry</td>\n",
       "      <td>1/2</td>\n",
       "      <td>not specified</td>\n",
       "      <td>not specified</td>\n",
       "      <td>2020-10-07</td>\n",
       "      <td>not specified</td>\n",
       "      <td>Jennifer Doudna</td>\n",
       "      <td>female</td>\n",
       "      <td>1964-02-19</td>\n",
       "      <td>North America</td>\n",
       "      <td>USA</td>\n",
       "      <td>not dead or organization</td>\n",
       "      <td>Individual</td>\n",
       "    </tr>\n",
       "    <tr>\n",
       "      <th>7</th>\n",
       "      <td>2020</td>\n",
       "      <td>Chemistry</td>\n",
       "      <td>1/2</td>\n",
       "      <td>not specified</td>\n",
       "      <td>not specified</td>\n",
       "      <td>2020-10-07</td>\n",
       "      <td>not specified</td>\n",
       "      <td>Emmanuelle Charpentier</td>\n",
       "      <td>female</td>\n",
       "      <td>1968-12-11</td>\n",
       "      <td>Europe</td>\n",
       "      <td>France</td>\n",
       "      <td>not dead or organization</td>\n",
       "      <td>Individual</td>\n",
       "    </tr>\n",
       "    <tr>\n",
       "      <th>8</th>\n",
       "      <td>2020</td>\n",
       "      <td>Literature</td>\n",
       "      <td>1</td>\n",
       "      <td>not specified</td>\n",
       "      <td>not specified</td>\n",
       "      <td>2020-10-08</td>\n",
       "      <td>not specified</td>\n",
       "      <td>Louise Glück</td>\n",
       "      <td>female</td>\n",
       "      <td>1943-04-22</td>\n",
       "      <td>North America</td>\n",
       "      <td>USA</td>\n",
       "      <td>not dead or organization</td>\n",
       "      <td>Individual</td>\n",
       "    </tr>\n",
       "    <tr>\n",
       "      <th>9</th>\n",
       "      <td>2020</td>\n",
       "      <td>Peace</td>\n",
       "      <td>1</td>\n",
       "      <td>not specified</td>\n",
       "      <td>not specified</td>\n",
       "      <td>2020-10-09</td>\n",
       "      <td>not specified</td>\n",
       "      <td>World Food Programme</td>\n",
       "      <td>organization</td>\n",
       "      <td>1961-12-19</td>\n",
       "      <td>North America</td>\n",
       "      <td>USA</td>\n",
       "      <td>not dead or organization</td>\n",
       "      <td>Organization</td>\n",
       "    </tr>\n",
       "  </tbody>\n",
       "</table>\n",
       "<p>960 rows × 14 columns</p>\n",
       "</div>"
      ],
      "text/plain": [
       "    award_year           category share   prize_amount prize_amount_adjusted  \\\n",
       "0         2001  Economic Sciences     3       10000000              12295082   \n",
       "1         1975            Physics     3         630000               3404179   \n",
       "2         2004          Chemistry     3       10000000              11762861   \n",
       "3         1982          Chemistry     1        1150000               3102518   \n",
       "4         1979            Physics     3         800000               2988048   \n",
       "..         ...                ...   ...            ...                   ...   \n",
       "5         2020            Physics   1/4  not specified         not specified   \n",
       "6         2020          Chemistry   1/2  not specified         not specified   \n",
       "7         2020          Chemistry   1/2  not specified         not specified   \n",
       "8         2020         Literature     1  not specified         not specified   \n",
       "9         2020              Peace     1  not specified         not specified   \n",
       "\n",
       "   date_awarded    laureate_id                    name        gender  \\\n",
       "0      10-10-01            745       A. Michael Spence          male   \n",
       "1      17-10-75            102            Aage N. Bohr          male   \n",
       "2      06-10-04            779       Aaron Ciechanover          male   \n",
       "3      18-10-82            259              Aaron Klug          male   \n",
       "4      15-10-79            114             Abdus Salam          male   \n",
       "..          ...            ...                     ...           ...   \n",
       "5    2020-10-06  not specified          Andrea M. Ghez        female   \n",
       "6    2020-10-07  not specified         Jennifer Doudna        female   \n",
       "7    2020-10-07  not specified  Emmanuelle Charpentier        female   \n",
       "8    2020-10-08  not specified            Louise Glück        female   \n",
       "9    2020-10-09  not specified    World Food Programme  organization   \n",
       "\n",
       "    birth_date birth_continent                      birth_country  \\\n",
       "0   1943-07-11   North America                                USA   \n",
       "1   1922-06-19          Europe                            Denmark   \n",
       "2   1947-10-01            Asia  British Protectorate of Palestine   \n",
       "3   1926-08-11          Europe                          Lithuania   \n",
       "4   1926-01-29            Asia                              India   \n",
       "..         ...             ...                                ...   \n",
       "5   1965-06-16          Europe                                USA   \n",
       "6   1964-02-19   North America                                USA   \n",
       "7   1968-12-11          Europe                             France   \n",
       "8   1943-04-22   North America                                USA   \n",
       "9   1961-12-19   North America                                USA   \n",
       "\n",
       "                  death_date          type  \n",
       "0   not dead or organization    Individual  \n",
       "1                   08-09-09    Individual  \n",
       "2   not dead or organization    Individual  \n",
       "3                   20-11-18    Individual  \n",
       "4                   21-11-96    Individual  \n",
       "..                       ...           ...  \n",
       "5   not dead or organization    Individual  \n",
       "6   not dead or organization    Individual  \n",
       "7   not dead or organization    Individual  \n",
       "8   not dead or organization    Individual  \n",
       "9   not dead or organization  Organization  \n",
       "\n",
       "[960 rows x 14 columns]"
      ]
     },
     "execution_count": 27,
     "metadata": {},
     "output_type": "execute_result"
    }
   ],
   "source": [
    "df"
   ]
  },
  {
   "cell_type": "markdown",
   "id": "10585202-8452-40cc-8567-19954be116f7",
   "metadata": {},
   "source": [
    "## i) Nobel Laureates for all years. "
   ]
  },
  {
   "cell_type": "markdown",
   "id": "a17b7e39-508c-442c-b9e9-ce6e938f5e59",
   "metadata": {},
   "source": [
    "We will be making dataframes for better plotting with seaborn library."
   ]
  },
  {
   "cell_type": "code",
   "execution_count": 28,
   "id": "baebd0af-0a14-4174-a680-d5ff0161ad10",
   "metadata": {},
   "outputs": [],
   "source": [
    "yeardf = df.groupby('award_year')[['laureate_id']].count()\n",
    "\n"
   ]
  },
  {
   "cell_type": "code",
   "execution_count": 29,
   "id": "2409640b-7f80-4f4e-85c0-016c3d7d1641",
   "metadata": {},
   "outputs": [
    {
     "data": {
      "text/html": [
       "<div>\n",
       "<style scoped>\n",
       "    .dataframe tbody tr th:only-of-type {\n",
       "        vertical-align: middle;\n",
       "    }\n",
       "\n",
       "    .dataframe tbody tr th {\n",
       "        vertical-align: top;\n",
       "    }\n",
       "\n",
       "    .dataframe thead th {\n",
       "        text-align: right;\n",
       "    }\n",
       "</style>\n",
       "<table border=\"1\" class=\"dataframe\">\n",
       "  <thead>\n",
       "    <tr style=\"text-align: right;\">\n",
       "      <th></th>\n",
       "      <th>laureate_id</th>\n",
       "    </tr>\n",
       "    <tr>\n",
       "      <th>award_year</th>\n",
       "      <th></th>\n",
       "    </tr>\n",
       "  </thead>\n",
       "  <tbody>\n",
       "    <tr>\n",
       "      <th>1901</th>\n",
       "      <td>6</td>\n",
       "    </tr>\n",
       "    <tr>\n",
       "      <th>1902</th>\n",
       "      <td>7</td>\n",
       "    </tr>\n",
       "    <tr>\n",
       "      <th>1903</th>\n",
       "      <td>7</td>\n",
       "    </tr>\n",
       "    <tr>\n",
       "      <th>1904</th>\n",
       "      <td>6</td>\n",
       "    </tr>\n",
       "    <tr>\n",
       "      <th>1905</th>\n",
       "      <td>5</td>\n",
       "    </tr>\n",
       "    <tr>\n",
       "      <th>...</th>\n",
       "      <td>...</td>\n",
       "    </tr>\n",
       "    <tr>\n",
       "      <th>2016</th>\n",
       "      <td>11</td>\n",
       "    </tr>\n",
       "    <tr>\n",
       "      <th>2017</th>\n",
       "      <td>12</td>\n",
       "    </tr>\n",
       "    <tr>\n",
       "      <th>2018</th>\n",
       "      <td>13</td>\n",
       "    </tr>\n",
       "    <tr>\n",
       "      <th>2019</th>\n",
       "      <td>14</td>\n",
       "    </tr>\n",
       "    <tr>\n",
       "      <th>2020</th>\n",
       "      <td>10</td>\n",
       "    </tr>\n",
       "  </tbody>\n",
       "</table>\n",
       "<p>117 rows × 1 columns</p>\n",
       "</div>"
      ],
      "text/plain": [
       "            laureate_id\n",
       "award_year             \n",
       "1901                  6\n",
       "1902                  7\n",
       "1903                  7\n",
       "1904                  6\n",
       "1905                  5\n",
       "...                 ...\n",
       "2016                 11\n",
       "2017                 12\n",
       "2018                 13\n",
       "2019                 14\n",
       "2020                 10\n",
       "\n",
       "[117 rows x 1 columns]"
      ]
     },
     "execution_count": 29,
     "metadata": {},
     "output_type": "execute_result"
    }
   ],
   "source": [
    "yeardf"
   ]
  },
  {
   "cell_type": "code",
   "execution_count": 30,
   "id": "22c1eab0-6789-4866-91dc-b7690c83d7b3",
   "metadata": {},
   "outputs": [],
   "source": [
    "#resetting index \n",
    "yeardf = yeardf.sort_values('laureate_id', ascending=False).reset_index()"
   ]
  },
  {
   "cell_type": "code",
   "execution_count": 31,
   "id": "27ba595f-de78-49fd-8bbd-16f931ea4c49",
   "metadata": {},
   "outputs": [
    {
     "data": {
      "text/html": [
       "<div>\n",
       "<style scoped>\n",
       "    .dataframe tbody tr th:only-of-type {\n",
       "        vertical-align: middle;\n",
       "    }\n",
       "\n",
       "    .dataframe tbody tr th {\n",
       "        vertical-align: top;\n",
       "    }\n",
       "\n",
       "    .dataframe thead th {\n",
       "        text-align: right;\n",
       "    }\n",
       "</style>\n",
       "<table border=\"1\" class=\"dataframe\">\n",
       "  <thead>\n",
       "    <tr style=\"text-align: right;\">\n",
       "      <th></th>\n",
       "      <th>award_year</th>\n",
       "      <th>laureate_id</th>\n",
       "    </tr>\n",
       "  </thead>\n",
       "  <tbody>\n",
       "    <tr>\n",
       "      <th>0</th>\n",
       "      <td>2001</td>\n",
       "      <td>15</td>\n",
       "    </tr>\n",
       "    <tr>\n",
       "      <th>1</th>\n",
       "      <td>2019</td>\n",
       "      <td>14</td>\n",
       "    </tr>\n",
       "    <tr>\n",
       "      <th>2</th>\n",
       "      <td>2002</td>\n",
       "      <td>13</td>\n",
       "    </tr>\n",
       "    <tr>\n",
       "      <th>3</th>\n",
       "      <td>2013</td>\n",
       "      <td>13</td>\n",
       "    </tr>\n",
       "    <tr>\n",
       "      <th>4</th>\n",
       "      <td>2005</td>\n",
       "      <td>13</td>\n",
       "    </tr>\n",
       "    <tr>\n",
       "      <th>...</th>\n",
       "      <td>...</td>\n",
       "      <td>...</td>\n",
       "    </tr>\n",
       "    <tr>\n",
       "      <th>112</th>\n",
       "      <td>1915</td>\n",
       "      <td>4</td>\n",
       "    </tr>\n",
       "    <tr>\n",
       "      <th>113</th>\n",
       "      <td>1924</td>\n",
       "      <td>3</td>\n",
       "    </tr>\n",
       "    <tr>\n",
       "      <th>114</th>\n",
       "      <td>1914</td>\n",
       "      <td>3</td>\n",
       "    </tr>\n",
       "    <tr>\n",
       "      <th>115</th>\n",
       "      <td>1918</td>\n",
       "      <td>2</td>\n",
       "    </tr>\n",
       "    <tr>\n",
       "      <th>116</th>\n",
       "      <td>1916</td>\n",
       "      <td>1</td>\n",
       "    </tr>\n",
       "  </tbody>\n",
       "</table>\n",
       "<p>117 rows × 2 columns</p>\n",
       "</div>"
      ],
      "text/plain": [
       "     award_year  laureate_id\n",
       "0          2001           15\n",
       "1          2019           14\n",
       "2          2002           13\n",
       "3          2013           13\n",
       "4          2005           13\n",
       "..          ...          ...\n",
       "112        1915            4\n",
       "113        1924            3\n",
       "114        1914            3\n",
       "115        1918            2\n",
       "116        1916            1\n",
       "\n",
       "[117 rows x 2 columns]"
      ]
     },
     "execution_count": 31,
     "metadata": {},
     "output_type": "execute_result"
    }
   ],
   "source": [
    "yeardf"
   ]
  },
  {
   "cell_type": "code",
   "execution_count": 32,
   "id": "9b5b5efd-4fe7-4432-8099-76e25dcb2d28",
   "metadata": {},
   "outputs": [],
   "source": [
    "# Renaming the columns for better view and understanding \n",
    "yeardf.rename(columns = { 'award_year':'year','laureate_id':'number_of_laureate'}, inplace = True)"
   ]
  },
  {
   "cell_type": "code",
   "execution_count": 33,
   "id": "cdd3dbe5-5a4f-4091-8dda-705869541d13",
   "metadata": {},
   "outputs": [
    {
     "data": {
      "text/html": [
       "<div>\n",
       "<style scoped>\n",
       "    .dataframe tbody tr th:only-of-type {\n",
       "        vertical-align: middle;\n",
       "    }\n",
       "\n",
       "    .dataframe tbody tr th {\n",
       "        vertical-align: top;\n",
       "    }\n",
       "\n",
       "    .dataframe thead th {\n",
       "        text-align: right;\n",
       "    }\n",
       "</style>\n",
       "<table border=\"1\" class=\"dataframe\">\n",
       "  <thead>\n",
       "    <tr style=\"text-align: right;\">\n",
       "      <th></th>\n",
       "      <th>year</th>\n",
       "      <th>number_of_laureate</th>\n",
       "    </tr>\n",
       "  </thead>\n",
       "  <tbody>\n",
       "    <tr>\n",
       "      <th>0</th>\n",
       "      <td>2001</td>\n",
       "      <td>15</td>\n",
       "    </tr>\n",
       "    <tr>\n",
       "      <th>1</th>\n",
       "      <td>2019</td>\n",
       "      <td>14</td>\n",
       "    </tr>\n",
       "    <tr>\n",
       "      <th>2</th>\n",
       "      <td>2002</td>\n",
       "      <td>13</td>\n",
       "    </tr>\n",
       "    <tr>\n",
       "      <th>3</th>\n",
       "      <td>2013</td>\n",
       "      <td>13</td>\n",
       "    </tr>\n",
       "    <tr>\n",
       "      <th>4</th>\n",
       "      <td>2005</td>\n",
       "      <td>13</td>\n",
       "    </tr>\n",
       "    <tr>\n",
       "      <th>...</th>\n",
       "      <td>...</td>\n",
       "      <td>...</td>\n",
       "    </tr>\n",
       "    <tr>\n",
       "      <th>112</th>\n",
       "      <td>1915</td>\n",
       "      <td>4</td>\n",
       "    </tr>\n",
       "    <tr>\n",
       "      <th>113</th>\n",
       "      <td>1924</td>\n",
       "      <td>3</td>\n",
       "    </tr>\n",
       "    <tr>\n",
       "      <th>114</th>\n",
       "      <td>1914</td>\n",
       "      <td>3</td>\n",
       "    </tr>\n",
       "    <tr>\n",
       "      <th>115</th>\n",
       "      <td>1918</td>\n",
       "      <td>2</td>\n",
       "    </tr>\n",
       "    <tr>\n",
       "      <th>116</th>\n",
       "      <td>1916</td>\n",
       "      <td>1</td>\n",
       "    </tr>\n",
       "  </tbody>\n",
       "</table>\n",
       "<p>117 rows × 2 columns</p>\n",
       "</div>"
      ],
      "text/plain": [
       "     year  number_of_laureate\n",
       "0    2001                  15\n",
       "1    2019                  14\n",
       "2    2002                  13\n",
       "3    2013                  13\n",
       "4    2005                  13\n",
       "..    ...                 ...\n",
       "112  1915                   4\n",
       "113  1924                   3\n",
       "114  1914                   3\n",
       "115  1918                   2\n",
       "116  1916                   1\n",
       "\n",
       "[117 rows x 2 columns]"
      ]
     },
     "execution_count": 33,
     "metadata": {},
     "output_type": "execute_result"
    }
   ],
   "source": [
    "yeardf"
   ]
  },
  {
   "cell_type": "code",
   "execution_count": 34,
   "id": "88ff6283-2d0e-46d8-a427-90e098381a20",
   "metadata": {},
   "outputs": [
    {
     "data": {
      "image/png": "[encoded data removed]",
      "text/plain": [
       "<Figure size 1500x3000 with 1 Axes>"
      ]
     },
     "metadata": {},
     "output_type": "display_data"
    }
   ],
   "source": [
    "# Plotting the Nobel Laureates for each year from 1901 to 2020.\n",
    "\n",
    "plt.figure(figsize=(15,30))\n",
    "plt.title('Nobel Prize winner in each year',fontweight=800)\n",
    "ax=sns.barplot(x='number_of_laureate', y='year', orient='h', data=yeardf);\n",
    "plt.ylabel('Year', size=15)\n",
    "plt.xlabel('Number of Nobel Prize Winners', size=15)\n",
    "for bars in ax.containers:        # function for datalabels.\n",
    "    ax.bar_label(bars)"
   ]
  },
  {
   "cell_type": "markdown",
   "id": "1e6004cd-c899-4b09-abb3-17cb749a99a9",
   "metadata": {},
   "source": [
    "We can see that 2001 was the year in which highest number i.e. 15 of the Laureates were awarded Nobel."
   ]
  },
  {
   "cell_type": "code",
   "execution_count": null,
   "id": "330f477c-a30e-4535-8320-c9edaaf83b73",
   "metadata": {},
   "outputs": [],
   "source": []
  },
  {
   "cell_type": "markdown",
   "id": "c0a5b052-84d0-46a9-a6f4-b5f0c5ec0e9d",
   "metadata": {},
   "source": [
    "## ii) Nobel Laureates per Different Categories."
   ]
  },
  {
   "cell_type": "code",
   "execution_count": null,
   "id": "ef243020-0e37-41f7-9491-def114a30a38",
   "metadata": {},
   "outputs": [],
   "source": []
  },
  {
   "cell_type": "code",
   "execution_count": 35,
   "id": "cf6d0fae-3c0b-42e7-8dd4-b927c0569865",
   "metadata": {},
   "outputs": [],
   "source": [
    "categorydf = df.groupby('category')[['laureate_id']].count()"
   ]
  },
  {
   "cell_type": "code",
   "execution_count": 36,
   "id": "25854654-1236-4c7c-b611-86433aa96f69",
   "metadata": {},
   "outputs": [],
   "source": [
    "categorydf = categorydf.sort_values('laureate_id', ascending=False).reset_index()"
   ]
  },
  {
   "cell_type": "code",
   "execution_count": 37,
   "id": "2d744a13-7cf9-4d5b-acbf-ff63a1db9c70",
   "metadata": {},
   "outputs": [],
   "source": [
    "categorydf.rename(columns = { 'laureate_id': 'number_of_laureate'}, inplace = True)"
   ]
  },
  {
   "cell_type": "code",
   "execution_count": 38,
   "id": "02058149-be17-409d-b957-87133f9dd322",
   "metadata": {},
   "outputs": [
    {
     "data": {
      "text/html": [
       "<div>\n",
       "<style scoped>\n",
       "    .dataframe tbody tr th:only-of-type {\n",
       "        vertical-align: middle;\n",
       "    }\n",
       "\n",
       "    .dataframe tbody tr th {\n",
       "        vertical-align: top;\n",
       "    }\n",
       "\n",
       "    .dataframe thead th {\n",
       "        text-align: right;\n",
       "    }\n",
       "</style>\n",
       "<table border=\"1\" class=\"dataframe\">\n",
       "  <thead>\n",
       "    <tr style=\"text-align: right;\">\n",
       "      <th></th>\n",
       "      <th>category</th>\n",
       "      <th>number_of_laureate</th>\n",
       "    </tr>\n",
       "  </thead>\n",
       "  <tbody>\n",
       "    <tr>\n",
       "      <th>0</th>\n",
       "      <td>Physiology or Medicine</td>\n",
       "      <td>222</td>\n",
       "    </tr>\n",
       "    <tr>\n",
       "      <th>1</th>\n",
       "      <td>Physics</td>\n",
       "      <td>216</td>\n",
       "    </tr>\n",
       "    <tr>\n",
       "      <th>2</th>\n",
       "      <td>Chemistry</td>\n",
       "      <td>186</td>\n",
       "    </tr>\n",
       "    <tr>\n",
       "      <th>3</th>\n",
       "      <td>Peace</td>\n",
       "      <td>135</td>\n",
       "    </tr>\n",
       "    <tr>\n",
       "      <th>4</th>\n",
       "      <td>Literature</td>\n",
       "      <td>117</td>\n",
       "    </tr>\n",
       "    <tr>\n",
       "      <th>5</th>\n",
       "      <td>Economic Sciences</td>\n",
       "      <td>84</td>\n",
       "    </tr>\n",
       "  </tbody>\n",
       "</table>\n",
       "</div>"
      ],
      "text/plain": [
       "                 category  number_of_laureate\n",
       "0  Physiology or Medicine                 222\n",
       "1                 Physics                 216\n",
       "2               Chemistry                 186\n",
       "3                   Peace                 135\n",
       "4              Literature                 117\n",
       "5       Economic Sciences                  84"
      ]
     },
     "execution_count": 38,
     "metadata": {},
     "output_type": "execute_result"
    }
   ],
   "source": [
    "categorydf"
   ]
  },
  {
   "cell_type": "code",
   "execution_count": 39,
   "id": "7a0d71e9-000f-4399-927c-f2ccb922fe90",
   "metadata": {},
   "outputs": [
    {
     "data": {
      "image/png": "[encoded data removed]",
      "text/plain": [
       "<Figure size 1000x400 with 1 Axes>"
      ]
     },
     "metadata": {},
     "output_type": "display_data"
    }
   ],
   "source": [
    "# Plotting the NobelPrize Winners in each category. \n",
    "\n",
    "plt.figure(figsize=(10,4))\n",
    "plt.title('Nobel Prize winner in each category',fontweight=800)\n",
    "ax=sns.barplot(x='category', y='number_of_laureate', orient='v', data=categorydf);\n",
    "plt.ylabel('Number of Laureates', size=10)\n",
    "plt.xlabel('Categories', size=10)\n",
    "\n",
    "for bars in ax.containers: # for datalables.\n",
    "    ax.bar_label(bars)"
   ]
  },
  {
   "cell_type": "markdown",
   "id": "9107f8f7-6cad-4474-aaeb-2c4362d0e222",
   "metadata": {},
   "source": [
    "Over these years highest number of Nobel were awarded in Medicine field followed by Physics and lowest numbers are in Economic Sciences.  "
   ]
  },
  {
   "cell_type": "code",
   "execution_count": null,
   "id": "00299619-0b0b-418e-8365-5ca32a25fb75",
   "metadata": {},
   "outputs": [],
   "source": []
  },
  {
   "cell_type": "markdown",
   "id": "9c5b9e46-d53e-4667-80ac-488627576240",
   "metadata": {},
   "source": [
    "## iii) Nobel Laureates according to birth countries."
   ]
  },
  {
   "cell_type": "code",
   "execution_count": 40,
   "id": "9e75d689-5f8a-433b-8b6e-a79a3275927b",
   "metadata": {},
   "outputs": [],
   "source": [
    "countrydf = df.groupby('birth_country')[['laureate_id']].count()"
   ]
  },
  {
   "cell_type": "code",
   "execution_count": 41,
   "id": "4ffe76e4-5214-4025-bc3d-26655dbb9b5e",
   "metadata": {},
   "outputs": [],
   "source": [
    "countrydf = countrydf.sort_values('laureate_id', ascending=False).reset_index()"
   ]
  },
  {
   "cell_type": "code",
   "execution_count": 42,
   "id": "b03f8a31-7c28-4159-86bf-9bbd61865436",
   "metadata": {},
   "outputs": [],
   "source": [
    "countrydf.rename(columns = { 'birth_country':'country' , 'laureate_id': 'number_of_laureate'}, inplace = True)"
   ]
  },
  {
   "cell_type": "code",
   "execution_count": 43,
   "id": "804ea2ea-f203-4030-a31c-7e5191dd1984",
   "metadata": {},
   "outputs": [
    {
     "data": {
      "text/html": [
       "<div>\n",
       "<style scoped>\n",
       "    .dataframe tbody tr th:only-of-type {\n",
       "        vertical-align: middle;\n",
       "    }\n",
       "\n",
       "    .dataframe tbody tr th {\n",
       "        vertical-align: top;\n",
       "    }\n",
       "\n",
       "    .dataframe thead th {\n",
       "        text-align: right;\n",
       "    }\n",
       "</style>\n",
       "<table border=\"1\" class=\"dataframe\">\n",
       "  <thead>\n",
       "    <tr style=\"text-align: right;\">\n",
       "      <th></th>\n",
       "      <th>country</th>\n",
       "      <th>number_of_laureate</th>\n",
       "    </tr>\n",
       "  </thead>\n",
       "  <tbody>\n",
       "    <tr>\n",
       "      <th>0</th>\n",
       "      <td>USA</td>\n",
       "      <td>287</td>\n",
       "    </tr>\n",
       "    <tr>\n",
       "      <th>1</th>\n",
       "      <td>United Kingdom</td>\n",
       "      <td>91</td>\n",
       "    </tr>\n",
       "    <tr>\n",
       "      <th>2</th>\n",
       "      <td>Germany</td>\n",
       "      <td>78</td>\n",
       "    </tr>\n",
       "    <tr>\n",
       "      <th>3</th>\n",
       "      <td>France</td>\n",
       "      <td>56</td>\n",
       "    </tr>\n",
       "    <tr>\n",
       "      <th>4</th>\n",
       "      <td>Sweden</td>\n",
       "      <td>29</td>\n",
       "    </tr>\n",
       "    <tr>\n",
       "      <th>...</th>\n",
       "      <td>...</td>\n",
       "      <td>...</td>\n",
       "    </tr>\n",
       "    <tr>\n",
       "      <th>92</th>\n",
       "      <td>Madagascar</td>\n",
       "      <td>1</td>\n",
       "    </tr>\n",
       "    <tr>\n",
       "      <th>93</th>\n",
       "      <td>Mecklenburg</td>\n",
       "      <td>1</td>\n",
       "    </tr>\n",
       "    <tr>\n",
       "      <th>94</th>\n",
       "      <td>Morocco</td>\n",
       "      <td>1</td>\n",
       "    </tr>\n",
       "    <tr>\n",
       "      <th>95</th>\n",
       "      <td>Nigeria</td>\n",
       "      <td>1</td>\n",
       "    </tr>\n",
       "    <tr>\n",
       "      <th>96</th>\n",
       "      <td>Lithuania</td>\n",
       "      <td>1</td>\n",
       "    </tr>\n",
       "  </tbody>\n",
       "</table>\n",
       "<p>97 rows × 2 columns</p>\n",
       "</div>"
      ],
      "text/plain": [
       "           country  number_of_laureate\n",
       "0              USA                 287\n",
       "1   United Kingdom                  91\n",
       "2          Germany                  78\n",
       "3           France                  56\n",
       "4           Sweden                  29\n",
       "..             ...                 ...\n",
       "92      Madagascar                   1\n",
       "93     Mecklenburg                   1\n",
       "94         Morocco                   1\n",
       "95         Nigeria                   1\n",
       "96       Lithuania                   1\n",
       "\n",
       "[97 rows x 2 columns]"
      ]
     },
     "execution_count": 43,
     "metadata": {},
     "output_type": "execute_result"
    }
   ],
   "source": [
    "countrydf"
   ]
  },
  {
   "cell_type": "code",
   "execution_count": 44,
   "id": "c016bffe-e93c-45ae-927b-35908a2d7f68",
   "metadata": {},
   "outputs": [
    {
     "data": {
      "image/png": "[encoded data removed]",
      "text/plain": [
       "<Figure size 1500x2500 with 1 Axes>"
      ]
     },
     "metadata": {},
     "output_type": "display_data"
    }
   ],
   "source": [
    "# Plotting the NobelPrize Winners and their birth countries. \n",
    "\n",
    "plt.figure(figsize=(15,25))\n",
    "plt.title('Nobel Prize Winner by country', fontweight=800)\n",
    "ax=sns.barplot(y='country', x='number_of_laureate', orient='h', data=countrydf)\n",
    "plt.ylabel('Countries', size=15)\n",
    "plt.xlabel('Total Number of Nobel Laureates', size=15);\n",
    "for bars in ax.containers:\n",
    "    ax.bar_label(bars)"
   ]
  },
  {
   "cell_type": "markdown",
   "id": "91391c73-b44c-4d6b-80c0-7f901bde54e2",
   "metadata": {},
   "source": [
    "USA lead this list with 287 laureates born here."
   ]
  },
  {
   "cell_type": "code",
   "execution_count": null,
   "id": "4a96af20-0785-459a-a801-19ca74018921",
   "metadata": {},
   "outputs": [],
   "source": []
  },
  {
   "cell_type": "markdown",
   "id": "04cb97b4-1fa1-4ad3-a272-d0d32d1d63f5",
   "metadata": {},
   "source": [
    "## iv) Nobel Laureates according to birth continents."
   ]
  },
  {
   "cell_type": "code",
   "execution_count": 45,
   "id": "95927c29-067a-460a-a9b7-602e4f683d96",
   "metadata": {},
   "outputs": [],
   "source": [
    "continentdf = df.groupby('birth_continent')[['laureate_id']].count()"
   ]
  },
  {
   "cell_type": "code",
   "execution_count": 46,
   "id": "21b738e9-f7c9-4420-8960-bf62b2870e63",
   "metadata": {},
   "outputs": [],
   "source": [
    "continentdf = continentdf.sort_values('laureate_id', ascending=False).reset_index()"
   ]
  },
  {
   "cell_type": "code",
   "execution_count": 47,
   "id": "6b737b39-1fd2-4a40-ae0a-7ea0429fd47a",
   "metadata": {},
   "outputs": [],
   "source": [
    "continentdf.rename(columns = { 'birth_continent':'continent' , 'laureate_id': 'number_of_laureate'}, inplace = True)"
   ]
  },
  {
   "cell_type": "code",
   "execution_count": 48,
   "id": "286ec9d9-168f-40b5-95f5-32d03bca63e2",
   "metadata": {},
   "outputs": [
    {
     "data": {
      "text/html": [
       "<div>\n",
       "<style scoped>\n",
       "    .dataframe tbody tr th:only-of-type {\n",
       "        vertical-align: middle;\n",
       "    }\n",
       "\n",
       "    .dataframe tbody tr th {\n",
       "        vertical-align: top;\n",
       "    }\n",
       "\n",
       "    .dataframe thead th {\n",
       "        text-align: right;\n",
       "    }\n",
       "</style>\n",
       "<table border=\"1\" class=\"dataframe\">\n",
       "  <thead>\n",
       "    <tr style=\"text-align: right;\">\n",
       "      <th></th>\n",
       "      <th>continent</th>\n",
       "      <th>number_of_laureate</th>\n",
       "    </tr>\n",
       "  </thead>\n",
       "  <tbody>\n",
       "    <tr>\n",
       "      <th>0</th>\n",
       "      <td>Europe</td>\n",
       "      <td>513</td>\n",
       "    </tr>\n",
       "    <tr>\n",
       "      <th>1</th>\n",
       "      <td>North America</td>\n",
       "      <td>317</td>\n",
       "    </tr>\n",
       "    <tr>\n",
       "      <th>2</th>\n",
       "      <td>Asia</td>\n",
       "      <td>73</td>\n",
       "    </tr>\n",
       "    <tr>\n",
       "      <th>3</th>\n",
       "      <td>Africa</td>\n",
       "      <td>27</td>\n",
       "    </tr>\n",
       "    <tr>\n",
       "      <th>4</th>\n",
       "      <td>Oceania</td>\n",
       "      <td>16</td>\n",
       "    </tr>\n",
       "    <tr>\n",
       "      <th>5</th>\n",
       "      <td>South America</td>\n",
       "      <td>11</td>\n",
       "    </tr>\n",
       "    <tr>\n",
       "      <th>6</th>\n",
       "      <td>not specified</td>\n",
       "      <td>3</td>\n",
       "    </tr>\n",
       "  </tbody>\n",
       "</table>\n",
       "</div>"
      ],
      "text/plain": [
       "       continent  number_of_laureate\n",
       "0         Europe                 513\n",
       "1  North America                 317\n",
       "2           Asia                  73\n",
       "3         Africa                  27\n",
       "4        Oceania                  16\n",
       "5  South America                  11\n",
       "6  not specified                   3"
      ]
     },
     "execution_count": 48,
     "metadata": {},
     "output_type": "execute_result"
    }
   ],
   "source": [
    "continentdf"
   ]
  },
  {
   "cell_type": "code",
   "execution_count": 49,
   "id": "ab1da8ab-a4a5-4d36-b107-4978d07195df",
   "metadata": {},
   "outputs": [
    {
     "data": {
      "image/png": "[encoded data removed]",
      "text/plain": [
       "<Figure size 2000x800 with 1 Axes>"
      ]
     },
     "metadata": {},
     "output_type": "display_data"
    }
   ],
   "source": [
    "plt.figure(figsize=(20,8))\n",
    "plt.title('Nobel Prize Winner by continent', fontweight=800)\n",
    "ax=sns.barplot(y='continent', x='number_of_laureate', orient='h', data=continentdf)\n",
    "plt.ylabel('Continent', size=15)\n",
    "plt.xlabel('Number of Nobel Laureates', size=15)\n",
    "for bars in ax.containers:\n",
    "    ax.bar_label(bars)\n"
   ]
  },
  {
   "cell_type": "markdown",
   "id": "cb33782f-69e0-4091-aa81-0c3b28f919ee",
   "metadata": {},
   "source": [
    "Europe leads this list with most number of laureates i.e. 513"
   ]
  },
  {
   "cell_type": "code",
   "execution_count": null,
   "id": "9353e2e0-4dbf-4115-bece-486176683a4f",
   "metadata": {},
   "outputs": [],
   "source": []
  },
  {
   "cell_type": "markdown",
   "id": "5cc79bea-e377-4f52-867d-2d85d413726a",
   "metadata": {},
   "source": [
    "# 5. Asking Questions.\n",
    "Here in this step we will bea asking some important question to get more information from data."
   ]
  },
  {
   "cell_type": "code",
   "execution_count": null,
   "id": "891549da-2023-4509-aed9-867aa12d22cf",
   "metadata": {},
   "outputs": [],
   "source": []
  },
  {
   "cell_type": "markdown",
   "id": "c1088002-e0c8-4506-a015-f7b178f22a6a",
   "metadata": {},
   "source": [
    "## Question1. What are the numbers male and female laureates in each category?"
   ]
  },
  {
   "cell_type": "code",
   "execution_count": 50,
   "id": "e440eca3-8cfe-4735-a4be-8f2b6b343016",
   "metadata": {},
   "outputs": [],
   "source": [
    "dfgender=df.groupby(\"category\")[['gender']].value_counts()\n",
    "dfgender=dfgender.reset_index()"
   ]
  },
  {
   "cell_type": "code",
   "execution_count": 51,
   "id": "0b0eb398-34ee-41c7-84de-df5b5e64ff3f",
   "metadata": {},
   "outputs": [],
   "source": [
    "dfgender.rename(columns={0:'number_of_laureate'} , inplace=True)"
   ]
  },
  {
   "cell_type": "code",
   "execution_count": 52,
   "id": "7918c7b6-1d86-4cd3-952b-8ea96908ad9a",
   "metadata": {},
   "outputs": [
    {
     "data": {
      "text/html": [
       "<div>\n",
       "<style scoped>\n",
       "    .dataframe tbody tr th:only-of-type {\n",
       "        vertical-align: middle;\n",
       "    }\n",
       "\n",
       "    .dataframe tbody tr th {\n",
       "        vertical-align: top;\n",
       "    }\n",
       "\n",
       "    .dataframe thead th {\n",
       "        text-align: right;\n",
       "    }\n",
       "</style>\n",
       "<table border=\"1\" class=\"dataframe\">\n",
       "  <thead>\n",
       "    <tr style=\"text-align: right;\">\n",
       "      <th></th>\n",
       "      <th>category</th>\n",
       "      <th>gender</th>\n",
       "      <th>number_of_laureate</th>\n",
       "    </tr>\n",
       "  </thead>\n",
       "  <tbody>\n",
       "    <tr>\n",
       "      <th>0</th>\n",
       "      <td>Chemistry</td>\n",
       "      <td>male</td>\n",
       "      <td>179</td>\n",
       "    </tr>\n",
       "    <tr>\n",
       "      <th>1</th>\n",
       "      <td>Chemistry</td>\n",
       "      <td>female</td>\n",
       "      <td>7</td>\n",
       "    </tr>\n",
       "    <tr>\n",
       "      <th>2</th>\n",
       "      <td>Economic Sciences</td>\n",
       "      <td>male</td>\n",
       "      <td>82</td>\n",
       "    </tr>\n",
       "    <tr>\n",
       "      <th>3</th>\n",
       "      <td>Economic Sciences</td>\n",
       "      <td>female</td>\n",
       "      <td>2</td>\n",
       "    </tr>\n",
       "    <tr>\n",
       "      <th>4</th>\n",
       "      <td>Literature</td>\n",
       "      <td>male</td>\n",
       "      <td>101</td>\n",
       "    </tr>\n",
       "    <tr>\n",
       "      <th>5</th>\n",
       "      <td>Literature</td>\n",
       "      <td>female</td>\n",
       "      <td>16</td>\n",
       "    </tr>\n",
       "    <tr>\n",
       "      <th>6</th>\n",
       "      <td>Peace</td>\n",
       "      <td>male</td>\n",
       "      <td>90</td>\n",
       "    </tr>\n",
       "    <tr>\n",
       "      <th>7</th>\n",
       "      <td>Peace</td>\n",
       "      <td>organization</td>\n",
       "      <td>28</td>\n",
       "    </tr>\n",
       "    <tr>\n",
       "      <th>8</th>\n",
       "      <td>Peace</td>\n",
       "      <td>female</td>\n",
       "      <td>17</td>\n",
       "    </tr>\n",
       "    <tr>\n",
       "      <th>9</th>\n",
       "      <td>Physics</td>\n",
       "      <td>male</td>\n",
       "      <td>212</td>\n",
       "    </tr>\n",
       "    <tr>\n",
       "      <th>10</th>\n",
       "      <td>Physics</td>\n",
       "      <td>female</td>\n",
       "      <td>4</td>\n",
       "    </tr>\n",
       "    <tr>\n",
       "      <th>11</th>\n",
       "      <td>Physiology or Medicine</td>\n",
       "      <td>male</td>\n",
       "      <td>210</td>\n",
       "    </tr>\n",
       "    <tr>\n",
       "      <th>12</th>\n",
       "      <td>Physiology or Medicine</td>\n",
       "      <td>female</td>\n",
       "      <td>12</td>\n",
       "    </tr>\n",
       "  </tbody>\n",
       "</table>\n",
       "</div>"
      ],
      "text/plain": [
       "                  category        gender  number_of_laureate\n",
       "0                Chemistry          male                 179\n",
       "1                Chemistry        female                   7\n",
       "2        Economic Sciences          male                  82\n",
       "3        Economic Sciences        female                   2\n",
       "4               Literature          male                 101\n",
       "5               Literature        female                  16\n",
       "6                    Peace          male                  90\n",
       "7                    Peace  organization                  28\n",
       "8                    Peace        female                  17\n",
       "9                  Physics          male                 212\n",
       "10                 Physics        female                   4\n",
       "11  Physiology or Medicine          male                 210\n",
       "12  Physiology or Medicine        female                  12"
      ]
     },
     "execution_count": 52,
     "metadata": {},
     "output_type": "execute_result"
    }
   ],
   "source": [
    "dfgender"
   ]
  },
  {
   "cell_type": "code",
   "execution_count": 53,
   "id": "599ec333-65db-435a-890a-8b4bc3d56451",
   "metadata": {},
   "outputs": [
    {
     "data": {
      "text/html": [
       "<div>\n",
       "<style scoped>\n",
       "    .dataframe tbody tr th:only-of-type {\n",
       "        vertical-align: middle;\n",
       "    }\n",
       "\n",
       "    .dataframe tbody tr th {\n",
       "        vertical-align: top;\n",
       "    }\n",
       "\n",
       "    .dataframe thead th {\n",
       "        text-align: right;\n",
       "    }\n",
       "</style>\n",
       "<table border=\"1\" class=\"dataframe\">\n",
       "  <thead>\n",
       "    <tr style=\"text-align: right;\">\n",
       "      <th>gender</th>\n",
       "      <th>female</th>\n",
       "      <th>male</th>\n",
       "      <th>organization</th>\n",
       "    </tr>\n",
       "    <tr>\n",
       "      <th>category</th>\n",
       "      <th></th>\n",
       "      <th></th>\n",
       "      <th></th>\n",
       "    </tr>\n",
       "  </thead>\n",
       "  <tbody>\n",
       "    <tr>\n",
       "      <th>Chemistry</th>\n",
       "      <td>7.0</td>\n",
       "      <td>179.0</td>\n",
       "      <td>NaN</td>\n",
       "    </tr>\n",
       "    <tr>\n",
       "      <th>Economic Sciences</th>\n",
       "      <td>2.0</td>\n",
       "      <td>82.0</td>\n",
       "      <td>NaN</td>\n",
       "    </tr>\n",
       "    <tr>\n",
       "      <th>Literature</th>\n",
       "      <td>16.0</td>\n",
       "      <td>101.0</td>\n",
       "      <td>NaN</td>\n",
       "    </tr>\n",
       "    <tr>\n",
       "      <th>Peace</th>\n",
       "      <td>17.0</td>\n",
       "      <td>90.0</td>\n",
       "      <td>28.0</td>\n",
       "    </tr>\n",
       "    <tr>\n",
       "      <th>Physics</th>\n",
       "      <td>4.0</td>\n",
       "      <td>212.0</td>\n",
       "      <td>NaN</td>\n",
       "    </tr>\n",
       "    <tr>\n",
       "      <th>Physiology or Medicine</th>\n",
       "      <td>12.0</td>\n",
       "      <td>210.0</td>\n",
       "      <td>NaN</td>\n",
       "    </tr>\n",
       "  </tbody>\n",
       "</table>\n",
       "</div>"
      ],
      "text/plain": [
       "gender                  female   male  organization\n",
       "category                                           \n",
       "Chemistry                  7.0  179.0           NaN\n",
       "Economic Sciences          2.0   82.0           NaN\n",
       "Literature                16.0  101.0           NaN\n",
       "Peace                     17.0   90.0          28.0\n",
       "Physics                    4.0  212.0           NaN\n",
       "Physiology or Medicine    12.0  210.0           NaN"
      ]
     },
     "execution_count": 53,
     "metadata": {},
     "output_type": "execute_result"
    }
   ],
   "source": [
    "dfgender.pivot(index='category',columns='gender', values='number_of_laureate')"
   ]
  },
  {
   "cell_type": "code",
   "execution_count": 54,
   "id": "2bb67170-e5e7-45bf-a19c-2922861d3b65",
   "metadata": {},
   "outputs": [
    {
     "data": {
      "image/png": "[encoded data removed]",
      "text/plain": [
       "<Figure size 1500x600 with 1 Axes>"
      ]
     },
     "metadata": {},
     "output_type": "display_data"
    }
   ],
   "source": [
    "ax=dfgender.pivot(index='category',columns='gender', values='number_of_laureate').plot(kind=\"bar\" , figsize=(15,6))\n",
    "plt.xlabel('categories')\n",
    "plt.ylabel('number of laureate')\n",
    "plt.title('Laureates based on Gender in each category')\n",
    "plt.legend(loc='upper left')\n",
    "for bars in ax.containers:\n",
    "    ax.bar_label(bars)\n",
    "plt.show()\n"
   ]
  },
  {
   "cell_type": "code",
   "execution_count": null,
   "id": "286be6b4-11a0-4a6f-82fc-0b2e8f348d3c",
   "metadata": {},
   "outputs": [],
   "source": []
  },
  {
   "cell_type": "markdown",
   "id": "41e80aa4-4a89-438c-aa0f-3fc549a60512",
   "metadata": {},
   "source": [
    "## Question2. How many laureates shared this prize with how many people?"
   ]
  },
  {
   "cell_type": "code",
   "execution_count": 55,
   "id": "e6c2f5e9-fec8-4245-b439-f2f5d3559da6",
   "metadata": {},
   "outputs": [
    {
     "data": {
      "text/html": [
       "<div>\n",
       "<style scoped>\n",
       "    .dataframe tbody tr th:only-of-type {\n",
       "        vertical-align: middle;\n",
       "    }\n",
       "\n",
       "    .dataframe tbody tr th {\n",
       "        vertical-align: top;\n",
       "    }\n",
       "\n",
       "    .dataframe thead th {\n",
       "        text-align: right;\n",
       "    }\n",
       "</style>\n",
       "<table border=\"1\" class=\"dataframe\">\n",
       "  <thead>\n",
       "    <tr style=\"text-align: right;\">\n",
       "      <th></th>\n",
       "      <th>award_year</th>\n",
       "      <th>category</th>\n",
       "      <th>share</th>\n",
       "      <th>prize_amount</th>\n",
       "      <th>prize_amount_adjusted</th>\n",
       "      <th>date_awarded</th>\n",
       "      <th>laureate_id</th>\n",
       "      <th>name</th>\n",
       "      <th>gender</th>\n",
       "      <th>birth_date</th>\n",
       "      <th>birth_continent</th>\n",
       "      <th>birth_country</th>\n",
       "      <th>death_date</th>\n",
       "      <th>type</th>\n",
       "    </tr>\n",
       "  </thead>\n",
       "  <tbody>\n",
       "    <tr>\n",
       "      <th>0</th>\n",
       "      <td>2001</td>\n",
       "      <td>Economic Sciences</td>\n",
       "      <td>3</td>\n",
       "      <td>10000000</td>\n",
       "      <td>12295082</td>\n",
       "      <td>10-10-01</td>\n",
       "      <td>745</td>\n",
       "      <td>A. Michael Spence</td>\n",
       "      <td>male</td>\n",
       "      <td>1943-07-11</td>\n",
       "      <td>North America</td>\n",
       "      <td>USA</td>\n",
       "      <td>not dead or organization</td>\n",
       "      <td>Individual</td>\n",
       "    </tr>\n",
       "    <tr>\n",
       "      <th>1</th>\n",
       "      <td>1975</td>\n",
       "      <td>Physics</td>\n",
       "      <td>3</td>\n",
       "      <td>630000</td>\n",
       "      <td>3404179</td>\n",
       "      <td>17-10-75</td>\n",
       "      <td>102</td>\n",
       "      <td>Aage N. Bohr</td>\n",
       "      <td>male</td>\n",
       "      <td>1922-06-19</td>\n",
       "      <td>Europe</td>\n",
       "      <td>Denmark</td>\n",
       "      <td>08-09-09</td>\n",
       "      <td>Individual</td>\n",
       "    </tr>\n",
       "    <tr>\n",
       "      <th>2</th>\n",
       "      <td>2004</td>\n",
       "      <td>Chemistry</td>\n",
       "      <td>3</td>\n",
       "      <td>10000000</td>\n",
       "      <td>11762861</td>\n",
       "      <td>06-10-04</td>\n",
       "      <td>779</td>\n",
       "      <td>Aaron Ciechanover</td>\n",
       "      <td>male</td>\n",
       "      <td>1947-10-01</td>\n",
       "      <td>Asia</td>\n",
       "      <td>British Protectorate of Palestine</td>\n",
       "      <td>not dead or organization</td>\n",
       "      <td>Individual</td>\n",
       "    </tr>\n",
       "    <tr>\n",
       "      <th>3</th>\n",
       "      <td>1982</td>\n",
       "      <td>Chemistry</td>\n",
       "      <td>1</td>\n",
       "      <td>1150000</td>\n",
       "      <td>3102518</td>\n",
       "      <td>18-10-82</td>\n",
       "      <td>259</td>\n",
       "      <td>Aaron Klug</td>\n",
       "      <td>male</td>\n",
       "      <td>1926-08-11</td>\n",
       "      <td>Europe</td>\n",
       "      <td>Lithuania</td>\n",
       "      <td>20-11-18</td>\n",
       "      <td>Individual</td>\n",
       "    </tr>\n",
       "    <tr>\n",
       "      <th>4</th>\n",
       "      <td>1979</td>\n",
       "      <td>Physics</td>\n",
       "      <td>3</td>\n",
       "      <td>800000</td>\n",
       "      <td>2988048</td>\n",
       "      <td>15-10-79</td>\n",
       "      <td>114</td>\n",
       "      <td>Abdus Salam</td>\n",
       "      <td>male</td>\n",
       "      <td>1926-01-29</td>\n",
       "      <td>Asia</td>\n",
       "      <td>India</td>\n",
       "      <td>21-11-96</td>\n",
       "      <td>Individual</td>\n",
       "    </tr>\n",
       "  </tbody>\n",
       "</table>\n",
       "</div>"
      ],
      "text/plain": [
       "   award_year           category share prize_amount prize_amount_adjusted  \\\n",
       "0        2001  Economic Sciences     3     10000000              12295082   \n",
       "1        1975            Physics     3       630000               3404179   \n",
       "2        2004          Chemistry     3     10000000              11762861   \n",
       "3        1982          Chemistry     1      1150000               3102518   \n",
       "4        1979            Physics     3       800000               2988048   \n",
       "\n",
       "  date_awarded laureate_id               name gender  birth_date  \\\n",
       "0     10-10-01         745  A. Michael Spence   male  1943-07-11   \n",
       "1     17-10-75         102       Aage N. Bohr   male  1922-06-19   \n",
       "2     06-10-04         779  Aaron Ciechanover   male  1947-10-01   \n",
       "3     18-10-82         259         Aaron Klug   male  1926-08-11   \n",
       "4     15-10-79         114        Abdus Salam   male  1926-01-29   \n",
       "\n",
       "  birth_continent                      birth_country  \\\n",
       "0   North America                                USA   \n",
       "1          Europe                            Denmark   \n",
       "2            Asia  British Protectorate of Palestine   \n",
       "3          Europe                          Lithuania   \n",
       "4            Asia                              India   \n",
       "\n",
       "                 death_date        type  \n",
       "0  not dead or organization  Individual  \n",
       "1                  08-09-09  Individual  \n",
       "2  not dead or organization  Individual  \n",
       "3                  20-11-18  Individual  \n",
       "4                  21-11-96  Individual  "
      ]
     },
     "execution_count": 55,
     "metadata": {},
     "output_type": "execute_result"
    }
   ],
   "source": [
    "df.head()"
   ]
  },
  {
   "cell_type": "code",
   "execution_count": null,
   "id": "e7b9a283-d661-4476-8bd7-260d66a04e1e",
   "metadata": {},
   "outputs": [],
   "source": []
  },
  {
   "cell_type": "code",
   "execution_count": 56,
   "id": "6de3c2dd-7f15-4502-87f1-ff4af6ba706c",
   "metadata": {},
   "outputs": [
    {
     "data": {
      "text/plain": [
       "1      350\n",
       "2      316\n",
       "3      216\n",
       "4       68\n",
       "1/3      3\n",
       "1/2      3\n",
       "1/4      2\n",
       "1        2\n",
       "Name: share, dtype: int64"
      ]
     },
     "execution_count": 56,
     "metadata": {},
     "output_type": "execute_result"
    }
   ],
   "source": [
    "df.share.value_counts()"
   ]
  },
  {
   "cell_type": "markdown",
   "id": "996d6eeb-660f-414a-a472-3852c4cf09bc",
   "metadata": {},
   "source": [
    "Here we can see that we have some data with 1/2, 1/3,1/4 in share so will convert thwm into 2,3,4 respectively."
   ]
  },
  {
   "cell_type": "code",
   "execution_count": 57,
   "id": "d78a462c-ae16-4325-8722-5230d7bfaece",
   "metadata": {},
   "outputs": [
    {
     "data": {
      "text/plain": [
       "award_year                int64\n",
       "category                 object\n",
       "share                    object\n",
       "prize_amount             object\n",
       "prize_amount_adjusted    object\n",
       "date_awarded             object\n",
       "laureate_id              object\n",
       "name                     object\n",
       "gender                   object\n",
       "birth_date               object\n",
       "birth_continent          object\n",
       "birth_country            object\n",
       "death_date               object\n",
       "type                     object\n",
       "dtype: object"
      ]
     },
     "execution_count": 57,
     "metadata": {},
     "output_type": "execute_result"
    }
   ],
   "source": [
    "df.dtypes"
   ]
  },
  {
   "cell_type": "code",
   "execution_count": 58,
   "id": "d48ee027-6f27-4f26-938d-bb25e562603e",
   "metadata": {},
   "outputs": [],
   "source": [
    "df['share'].mask(df['share'] == '1/2', 2, inplace=True)"
   ]
  },
  {
   "cell_type": "code",
   "execution_count": 59,
   "id": "554786a1-cc94-463e-98b8-9b7fde7a7ac1",
   "metadata": {},
   "outputs": [],
   "source": [
    "df['share'].mask(df['share'] == '1/3', 3, inplace=True)"
   ]
  },
  {
   "cell_type": "code",
   "execution_count": 60,
   "id": "4cb816ad-1e0a-46d0-a76b-d54be30b494d",
   "metadata": {},
   "outputs": [],
   "source": [
    "df['share'].mask(df['share'] == '1/4', 4, inplace=True)"
   ]
  },
  {
   "cell_type": "code",
   "execution_count": 61,
   "id": "1680a133-18c5-4128-8300-2541497f1f01",
   "metadata": {},
   "outputs": [],
   "source": [
    "df['share'].mask(df['share'] == '1', 1, inplace=True)"
   ]
  },
  {
   "cell_type": "code",
   "execution_count": 62,
   "id": "375ffb24-6d90-4059-8522-8e8ccbd8423d",
   "metadata": {},
   "outputs": [
    {
     "data": {
      "text/plain": [
       "1    352\n",
       "2    319\n",
       "3    219\n",
       "4     70\n",
       "Name: share, dtype: int64"
      ]
     },
     "execution_count": 62,
     "metadata": {},
     "output_type": "execute_result"
    }
   ],
   "source": [
    "df.share.value_counts()"
   ]
  },
  {
   "cell_type": "code",
   "execution_count": 63,
   "id": "22bf3856-af16-422a-b93f-6544c7804555",
   "metadata": {},
   "outputs": [
    {
     "data": {
      "text/plain": [
       "1    352\n",
       "2    319\n",
       "3    219\n",
       "4     70\n",
       "Name: share, dtype: int64"
      ]
     },
     "execution_count": 63,
     "metadata": {},
     "output_type": "execute_result"
    }
   ],
   "source": [
    "# coverting series got from value_counts() function into a dataframe.\n",
    "value_counts=df.share.value_counts()\n",
    "value_counts"
   ]
  },
  {
   "cell_type": "code",
   "execution_count": 65,
   "id": "f253b13e-275e-4cd0-9939-d211240fd49e",
   "metadata": {},
   "outputs": [],
   "source": [
    "# \n",
    "df_share= value_counts.rename_axis('share').reset_index(name='counts')"
   ]
  },
  {
   "cell_type": "code",
   "execution_count": 66,
   "id": "82532b73-7ecd-4700-b321-43e96c07ae20",
   "metadata": {},
   "outputs": [
    {
     "data": {
      "text/html": [
       "<div>\n",
       "<style scoped>\n",
       "    .dataframe tbody tr th:only-of-type {\n",
       "        vertical-align: middle;\n",
       "    }\n",
       "\n",
       "    .dataframe tbody tr th {\n",
       "        vertical-align: top;\n",
       "    }\n",
       "\n",
       "    .dataframe thead th {\n",
       "        text-align: right;\n",
       "    }\n",
       "</style>\n",
       "<table border=\"1\" class=\"dataframe\">\n",
       "  <thead>\n",
       "    <tr style=\"text-align: right;\">\n",
       "      <th></th>\n",
       "      <th>share</th>\n",
       "      <th>counts</th>\n",
       "    </tr>\n",
       "  </thead>\n",
       "  <tbody>\n",
       "    <tr>\n",
       "      <th>0</th>\n",
       "      <td>1</td>\n",
       "      <td>352</td>\n",
       "    </tr>\n",
       "    <tr>\n",
       "      <th>1</th>\n",
       "      <td>2</td>\n",
       "      <td>319</td>\n",
       "    </tr>\n",
       "    <tr>\n",
       "      <th>2</th>\n",
       "      <td>3</td>\n",
       "      <td>219</td>\n",
       "    </tr>\n",
       "    <tr>\n",
       "      <th>3</th>\n",
       "      <td>4</td>\n",
       "      <td>70</td>\n",
       "    </tr>\n",
       "  </tbody>\n",
       "</table>\n",
       "</div>"
      ],
      "text/plain": [
       "   share  counts\n",
       "0      1     352\n",
       "1      2     319\n",
       "2      3     219\n",
       "3      4      70"
      ]
     },
     "execution_count": 66,
     "metadata": {},
     "output_type": "execute_result"
    }
   ],
   "source": [
    "df_share"
   ]
  },
  {
   "cell_type": "code",
   "execution_count": 67,
   "id": "fdfdbbd7-855c-4e9b-9022-0f47901b5836",
   "metadata": {},
   "outputs": [
    {
     "data": {
      "text/plain": [
       "(4, 2)"
      ]
     },
     "execution_count": 67,
     "metadata": {},
     "output_type": "execute_result"
    }
   ],
   "source": [
    "df_share.shape"
   ]
  },
  {
   "cell_type": "code",
   "execution_count": 68,
   "id": "06cff319-db4f-4630-9c6e-664ddda3e87f",
   "metadata": {},
   "outputs": [
    {
     "data": {
      "image/png": "[encoded data removed]",
      "text/plain": [
       "<Figure size 1000x500 with 1 Axes>"
      ]
     },
     "metadata": {},
     "output_type": "display_data"
    }
   ],
   "source": [
    "plt.figure(figsize=(10,5))\n",
    "plt.title('Nobel Prize Winner by Sharing Portions ', fontweight=800)\n",
    "ax=sns.barplot(y='counts', x='share', orient='v', data=df_share)\n",
    "plt.ylabel('Number of Laureates', size=15)\n",
    "plt.xlabel('Laureates Shares', size=15)\n",
    "for bars in ax.containers:\n",
    "    ax.bar_label(bars)"
   ]
  },
  {
   "cell_type": "markdown",
   "id": "8f7efbd4-0a7d-40f7-b2c9-6c36d435a6a2",
   "metadata": {},
   "source": [
    "Higehest number of Laureates are in single category followed by 2 , 3 , 4 Laureates sharing the prize."
   ]
  },
  {
   "cell_type": "code",
   "execution_count": null,
   "id": "045e6a0f-1b26-4998-9a97-67c555cfcf34",
   "metadata": {},
   "outputs": [],
   "source": []
  },
  {
   "cell_type": "markdown",
   "id": "76ef824c-aa08-4f90-9b00-152db580e107",
   "metadata": {},
   "source": [
    "## Question3. Which were first male and female Laureates to get Nobel? "
   ]
  },
  {
   "cell_type": "code",
   "execution_count": 69,
   "id": "97db5854-4967-46e6-b6a4-b04105ee12db",
   "metadata": {},
   "outputs": [],
   "source": [
    "# using nsmallest() function to get dataframe rows based on award year.\n",
    "\n",
    "female = df[df.gender == 'female'].nsmallest(1, 'award_year')\n",
    "male = df[df.gender == 'male'].nsmallest(1, 'award_year')\n",
    "organization = df[df.gender == 'organization'].nsmallest(1, 'award_year')"
   ]
  },
  {
   "cell_type": "code",
   "execution_count": 70,
   "id": "aa878779-d740-45c3-a00e-c7992c2e8dc5",
   "metadata": {},
   "outputs": [
    {
     "data": {
      "text/html": [
       "<div>\n",
       "<style scoped>\n",
       "    .dataframe tbody tr th:only-of-type {\n",
       "        vertical-align: middle;\n",
       "    }\n",
       "\n",
       "    .dataframe tbody tr th {\n",
       "        vertical-align: top;\n",
       "    }\n",
       "\n",
       "    .dataframe thead th {\n",
       "        text-align: right;\n",
       "    }\n",
       "</style>\n",
       "<table border=\"1\" class=\"dataframe\">\n",
       "  <thead>\n",
       "    <tr style=\"text-align: right;\">\n",
       "      <th></th>\n",
       "      <th>name</th>\n",
       "      <th>category</th>\n",
       "      <th>gender</th>\n",
       "    </tr>\n",
       "  </thead>\n",
       "  <tbody>\n",
       "    <tr>\n",
       "      <th>566</th>\n",
       "      <td>Marie Curie</td>\n",
       "      <td>Physics</td>\n",
       "      <td>female</td>\n",
       "    </tr>\n",
       "  </tbody>\n",
       "</table>\n",
       "</div>"
      ],
      "text/plain": [
       "            name category  gender\n",
       "566  Marie Curie  Physics  female"
      ]
     },
     "execution_count": 70,
     "metadata": {},
     "output_type": "execute_result"
    }
   ],
   "source": [
    "female[['name','category','gender']]"
   ]
  },
  {
   "cell_type": "code",
   "execution_count": null,
   "id": "da8d7185-d6ba-4212-8d53-ae682b4fa74f",
   "metadata": {},
   "outputs": [],
   "source": [
    "So Madam Marie Curie was the first female to get Nobel."
   ]
  },
  {
   "cell_type": "code",
   "execution_count": 71,
   "id": "a6f25ee1-3b78-4924-a199-a1d83a823b01",
   "metadata": {},
   "outputs": [
    {
     "data": {
      "text/html": [
       "<div>\n",
       "<style scoped>\n",
       "    .dataframe tbody tr th:only-of-type {\n",
       "        vertical-align: middle;\n",
       "    }\n",
       "\n",
       "    .dataframe tbody tr th {\n",
       "        vertical-align: top;\n",
       "    }\n",
       "\n",
       "    .dataframe thead th {\n",
       "        text-align: right;\n",
       "    }\n",
       "</style>\n",
       "<table border=\"1\" class=\"dataframe\">\n",
       "  <thead>\n",
       "    <tr style=\"text-align: right;\">\n",
       "      <th></th>\n",
       "      <th>name</th>\n",
       "      <th>category</th>\n",
       "      <th>gender</th>\n",
       "    </tr>\n",
       "  </thead>\n",
       "  <tbody>\n",
       "    <tr>\n",
       "      <th>211</th>\n",
       "      <td>Emil von Behring</td>\n",
       "      <td>Physiology or Medicine</td>\n",
       "      <td>male</td>\n",
       "    </tr>\n",
       "  </tbody>\n",
       "</table>\n",
       "</div>"
      ],
      "text/plain": [
       "                 name                category gender\n",
       "211  Emil von Behring  Physiology or Medicine   male"
      ]
     },
     "execution_count": 71,
     "metadata": {},
     "output_type": "execute_result"
    }
   ],
   "source": [
    "male[['name','category','gender']]"
   ]
  },
  {
   "cell_type": "code",
   "execution_count": 72,
   "id": "fc1786f2-a701-47db-888f-03b1f82cdd53",
   "metadata": {},
   "outputs": [
    {
     "data": {
      "text/html": [
       "<div>\n",
       "<style scoped>\n",
       "    .dataframe tbody tr th:only-of-type {\n",
       "        vertical-align: middle;\n",
       "    }\n",
       "\n",
       "    .dataframe tbody tr th {\n",
       "        vertical-align: top;\n",
       "    }\n",
       "\n",
       "    .dataframe thead th {\n",
       "        text-align: right;\n",
       "    }\n",
       "</style>\n",
       "<table border=\"1\" class=\"dataframe\">\n",
       "  <thead>\n",
       "    <tr style=\"text-align: right;\">\n",
       "      <th></th>\n",
       "      <th>name</th>\n",
       "      <th>category</th>\n",
       "      <th>gender</th>\n",
       "    </tr>\n",
       "  </thead>\n",
       "  <tbody>\n",
       "    <tr>\n",
       "      <th>386</th>\n",
       "      <td>Institute of International Law</td>\n",
       "      <td>Peace</td>\n",
       "      <td>organization</td>\n",
       "    </tr>\n",
       "  </tbody>\n",
       "</table>\n",
       "</div>"
      ],
      "text/plain": [
       "                               name category        gender\n",
       "386  Institute of International Law    Peace  organization"
      ]
     },
     "execution_count": 72,
     "metadata": {},
     "output_type": "execute_result"
    }
   ],
   "source": [
    "organization[['name','category','gender']]"
   ]
  },
  {
   "cell_type": "markdown",
   "id": "29354ad5-fcd5-4add-b6bb-36350cb630aa",
   "metadata": {},
   "source": [
    "In organization category Institute of International Law was first to get Nobel."
   ]
  },
  {
   "cell_type": "code",
   "execution_count": null,
   "id": "0b2541aa-35a2-492b-b74b-a9b094c6163c",
   "metadata": {},
   "outputs": [],
   "source": []
  },
  {
   "cell_type": "markdown",
   "id": "bc2a30d3-a8ac-4b5c-924f-25e3b35dc38a",
   "metadata": {},
   "source": [
    "## Question4. Which were laureates to get Nobel more than once ?"
   ]
  },
  {
   "cell_type": "code",
   "execution_count": 73,
   "id": "dfc4b941-3932-40d6-a948-4e3ac5f68a92",
   "metadata": {},
   "outputs": [],
   "source": [
    "more_df=df.groupby('name').filter(lambda group: len(group) >= 2)"
   ]
  },
  {
   "cell_type": "code",
   "execution_count": 74,
   "id": "e0f09c2e-19af-49db-b84f-b40e4006bf7f",
   "metadata": {},
   "outputs": [],
   "source": [
    "more_df=more_df.groupby('name')[['laureate_id']].count().reset_index()"
   ]
  },
  {
   "cell_type": "code",
   "execution_count": 75,
   "id": "8151fa29-58a5-4b00-865f-c1415bbf0ef6",
   "metadata": {},
   "outputs": [],
   "source": [
    "more_df.rename(columns = {'laureate_id':'times_got'}, inplace = True)"
   ]
  },
  {
   "cell_type": "code",
   "execution_count": 76,
   "id": "4b42c03a-8327-4f9e-a661-d56b9a453989",
   "metadata": {},
   "outputs": [
    {
     "data": {
      "text/html": [
       "<div>\n",
       "<style scoped>\n",
       "    .dataframe tbody tr th:only-of-type {\n",
       "        vertical-align: middle;\n",
       "    }\n",
       "\n",
       "    .dataframe tbody tr th {\n",
       "        vertical-align: top;\n",
       "    }\n",
       "\n",
       "    .dataframe thead th {\n",
       "        text-align: right;\n",
       "    }\n",
       "</style>\n",
       "<table border=\"1\" class=\"dataframe\">\n",
       "  <thead>\n",
       "    <tr style=\"text-align: right;\">\n",
       "      <th></th>\n",
       "      <th>name</th>\n",
       "      <th>times_got</th>\n",
       "    </tr>\n",
       "  </thead>\n",
       "  <tbody>\n",
       "    <tr>\n",
       "      <th>1</th>\n",
       "      <td>International Committee of the Red Cross</td>\n",
       "      <td>3</td>\n",
       "    </tr>\n",
       "    <tr>\n",
       "      <th>0</th>\n",
       "      <td>Frederick Sanger</td>\n",
       "      <td>2</td>\n",
       "    </tr>\n",
       "    <tr>\n",
       "      <th>2</th>\n",
       "      <td>John Bardeen</td>\n",
       "      <td>2</td>\n",
       "    </tr>\n",
       "    <tr>\n",
       "      <th>3</th>\n",
       "      <td>Linus Pauling</td>\n",
       "      <td>2</td>\n",
       "    </tr>\n",
       "    <tr>\n",
       "      <th>4</th>\n",
       "      <td>Marie Curie</td>\n",
       "      <td>2</td>\n",
       "    </tr>\n",
       "    <tr>\n",
       "      <th>5</th>\n",
       "      <td>Office of the United Nations High Commissioner...</td>\n",
       "      <td>2</td>\n",
       "    </tr>\n",
       "  </tbody>\n",
       "</table>\n",
       "</div>"
      ],
      "text/plain": [
       "                                                name  times_got\n",
       "1           International Committee of the Red Cross          3\n",
       "0                                   Frederick Sanger          2\n",
       "2                                       John Bardeen          2\n",
       "3                                      Linus Pauling          2\n",
       "4                                        Marie Curie          2\n",
       "5  Office of the United Nations High Commissioner...          2"
      ]
     },
     "execution_count": 76,
     "metadata": {},
     "output_type": "execute_result"
    }
   ],
   "source": [
    "more_df.sort_values('times_got', ascending=False)"
   ]
  },
  {
   "cell_type": "markdown",
   "id": "de415391-7ab3-4c71-83ca-4520894ef57b",
   "metadata": {},
   "source": [
    "Only International Committee of the Red Cross has got Nobel 3 times otherwise rest every Laureates has got twice. \n",
    "Marie Curie is only female in this list."
   ]
  },
  {
   "cell_type": "code",
   "execution_count": null,
   "id": "89e7222c-91fc-4581-955c-a03a5cbb654d",
   "metadata": {},
   "outputs": [],
   "source": []
  },
  {
   "cell_type": "markdown",
   "id": "2eadb396-520c-4057-bfc1-30419f5d2625",
   "metadata": {},
   "source": [
    "## Question5. What is the gender composition of the total number of the laureates ? "
   ]
  },
  {
   "cell_type": "code",
   "execution_count": 77,
   "id": "85824054-ad9e-45ad-ace4-a2e2f2a17246",
   "metadata": {},
   "outputs": [
    {
     "data": {
      "text/html": [
       "<div>\n",
       "<style scoped>\n",
       "    .dataframe tbody tr th:only-of-type {\n",
       "        vertical-align: middle;\n",
       "    }\n",
       "\n",
       "    .dataframe tbody tr th {\n",
       "        vertical-align: top;\n",
       "    }\n",
       "\n",
       "    .dataframe thead th {\n",
       "        text-align: right;\n",
       "    }\n",
       "</style>\n",
       "<table border=\"1\" class=\"dataframe\">\n",
       "  <thead>\n",
       "    <tr style=\"text-align: right;\">\n",
       "      <th></th>\n",
       "      <th>gender</th>\n",
       "      <th>count</th>\n",
       "    </tr>\n",
       "  </thead>\n",
       "  <tbody>\n",
       "    <tr>\n",
       "      <th>0</th>\n",
       "      <td>female</td>\n",
       "      <td>58</td>\n",
       "    </tr>\n",
       "    <tr>\n",
       "      <th>1</th>\n",
       "      <td>male</td>\n",
       "      <td>874</td>\n",
       "    </tr>\n",
       "    <tr>\n",
       "      <th>2</th>\n",
       "      <td>organization</td>\n",
       "      <td>28</td>\n",
       "    </tr>\n",
       "  </tbody>\n",
       "</table>\n",
       "</div>"
      ],
      "text/plain": [
       "         gender  count\n",
       "0        female     58\n",
       "1          male    874\n",
       "2  organization     28"
      ]
     },
     "execution_count": 77,
     "metadata": {},
     "output_type": "execute_result"
    }
   ],
   "source": [
    "df.groupby(['gender'])['gender'].count().reset_index(name='count')"
   ]
  },
  {
   "cell_type": "code",
   "execution_count": 78,
   "id": "a9e55928-bf72-49b5-8631-7333d70816ac",
   "metadata": {},
   "outputs": [
    {
     "data": {
      "image/png": "[encoded data removed]",
      "text/plain": [
       "<Figure size 600x600 with 1 Axes>"
      ]
     },
     "metadata": {},
     "output_type": "display_data"
    }
   ],
   "source": [
    "# Plotting the Pie Chart of the above dataframe.\n",
    "plt.figure(figsize=(6,6))\n",
    "Female = df['gender'].value_counts()['female']\n",
    "Male = df['gender'].value_counts()['male']\n",
    "Organization = df['gender'].value_counts()['organization']\n",
    "plt.pie([Male, Female, Organization], labels = ['Male', 'Female', 'Organization'], colors=['lightblue','pink','white'], autopct='%1.3f%%', textprops={'size':'10'});"
   ]
  },
  {
   "cell_type": "markdown",
   "id": "1447fecb-0f2a-46c7-9875-fafd2be886f6",
   "metadata": {},
   "source": [
    "More than 90% of the laureates were males."
   ]
  },
  {
   "cell_type": "code",
   "execution_count": null,
   "id": "6e545a5a-a315-47f5-b1b6-b19ceee16c5e",
   "metadata": {},
   "outputs": [],
   "source": []
  },
  {
   "cell_type": "markdown",
   "id": "46dc4552-b56a-484f-b556-e4d2c4a0c886",
   "metadata": {},
   "source": [
    "## Question6. Who were the youngest laureates ?"
   ]
  },
  {
   "cell_type": "code",
   "execution_count": 79,
   "id": "d4b25f94-4857-4075-9955-706a4bf459a5",
   "metadata": {},
   "outputs": [
    {
     "data": {
      "text/plain": [
       "award_year                int64\n",
       "category                 object\n",
       "share                    object\n",
       "prize_amount             object\n",
       "prize_amount_adjusted    object\n",
       "date_awarded             object\n",
       "laureate_id              object\n",
       "name                     object\n",
       "gender                   object\n",
       "birth_date               object\n",
       "birth_continent          object\n",
       "birth_country            object\n",
       "death_date               object\n",
       "type                     object\n",
       "dtype: object"
      ]
     },
     "execution_count": 79,
     "metadata": {},
     "output_type": "execute_result"
    }
   ],
   "source": [
    "df.dtypes"
   ]
  },
  {
   "cell_type": "code",
   "execution_count": 80,
   "id": "7f82d30f-ca63-4891-830c-f87c46c5c640",
   "metadata": {},
   "outputs": [],
   "source": [
    "df.birth_date=pd.to_datetime(df.birth_date,errors='coerce')"
   ]
  },
  {
   "cell_type": "code",
   "execution_count": 81,
   "id": "c46db213-c28b-49d2-b686-0096e05bf4ed",
   "metadata": {},
   "outputs": [],
   "source": [
    "# adding a column birth_year \n",
    "df['birth_year'] = df['birth_date'].dt.year"
   ]
  },
  {
   "cell_type": "code",
   "execution_count": 82,
   "id": "e738cf38-3efa-4c6a-80fc-a0745c903a1c",
   "metadata": {},
   "outputs": [],
   "source": [
    "df['age_when_awarded']=df['award_year']-df['birth_year']"
   ]
  },
  {
   "cell_type": "code",
   "execution_count": 83,
   "id": "473f3352-a8ec-493f-ae2b-3cebd4f57a09",
   "metadata": {},
   "outputs": [],
   "source": [
    "youngest_female = df[df.gender == 'female'].nsmallest(1, 'age_when_awarded')\n",
    "youngest_male = df[df.gender == 'male'].nsmallest(1, 'age_when_awarded')"
   ]
  },
  {
   "cell_type": "code",
   "execution_count": 84,
   "id": "20b06421-a868-45e9-a744-d7efb30ef4e0",
   "metadata": {},
   "outputs": [
    {
     "data": {
      "text/html": [
       "<div>\n",
       "<style scoped>\n",
       "    .dataframe tbody tr th:only-of-type {\n",
       "        vertical-align: middle;\n",
       "    }\n",
       "\n",
       "    .dataframe tbody tr th {\n",
       "        vertical-align: top;\n",
       "    }\n",
       "\n",
       "    .dataframe thead th {\n",
       "        text-align: right;\n",
       "    }\n",
       "</style>\n",
       "<table border=\"1\" class=\"dataframe\">\n",
       "  <thead>\n",
       "    <tr style=\"text-align: right;\">\n",
       "      <th></th>\n",
       "      <th>name</th>\n",
       "      <th>category</th>\n",
       "      <th>gender</th>\n",
       "      <th>age_when_awarded</th>\n",
       "    </tr>\n",
       "  </thead>\n",
       "  <tbody>\n",
       "    <tr>\n",
       "      <th>562</th>\n",
       "      <td>Malala Yousafzai</td>\n",
       "      <td>Peace</td>\n",
       "      <td>female</td>\n",
       "      <td>17.0</td>\n",
       "    </tr>\n",
       "  </tbody>\n",
       "</table>\n",
       "</div>"
      ],
      "text/plain": [
       "                 name category  gender  age_when_awarded\n",
       "562  Malala Yousafzai    Peace  female              17.0"
      ]
     },
     "execution_count": 84,
     "metadata": {},
     "output_type": "execute_result"
    }
   ],
   "source": [
    "youngest_female[['name','category','gender','age_when_awarded']]"
   ]
  },
  {
   "cell_type": "markdown",
   "id": "4731b021-828f-4fa1-a34f-eb3dde38bb56",
   "metadata": {},
   "source": [
    "Malala Yousafzai is youngest female nobel laureate."
   ]
  },
  {
   "cell_type": "code",
   "execution_count": 85,
   "id": "9bdb79e2-26cc-46b5-b139-401cb787daa6",
   "metadata": {},
   "outputs": [
    {
     "data": {
      "text/html": [
       "<div>\n",
       "<style scoped>\n",
       "    .dataframe tbody tr th:only-of-type {\n",
       "        vertical-align: middle;\n",
       "    }\n",
       "\n",
       "    .dataframe tbody tr th {\n",
       "        vertical-align: top;\n",
       "    }\n",
       "\n",
       "    .dataframe thead th {\n",
       "        text-align: right;\n",
       "    }\n",
       "</style>\n",
       "<table border=\"1\" class=\"dataframe\">\n",
       "  <thead>\n",
       "    <tr style=\"text-align: right;\">\n",
       "      <th></th>\n",
       "      <th>name</th>\n",
       "      <th>category</th>\n",
       "      <th>gender</th>\n",
       "      <th>age_when_awarded</th>\n",
       "    </tr>\n",
       "  </thead>\n",
       "  <tbody>\n",
       "    <tr>\n",
       "      <th>526</th>\n",
       "      <td>Lawrence Bragg</td>\n",
       "      <td>Physics</td>\n",
       "      <td>male</td>\n",
       "      <td>25.0</td>\n",
       "    </tr>\n",
       "  </tbody>\n",
       "</table>\n",
       "</div>"
      ],
      "text/plain": [
       "               name category gender  age_when_awarded\n",
       "526  Lawrence Bragg  Physics   male              25.0"
      ]
     },
     "execution_count": 85,
     "metadata": {},
     "output_type": "execute_result"
    }
   ],
   "source": [
    "youngest_male[['name','category','gender','age_when_awarded']]"
   ]
  },
  {
   "cell_type": "markdown",
   "id": "f53ff568-69a4-4c6f-918b-02262ede2b51",
   "metadata": {},
   "source": [
    "Lawrence Bragg is youngest male nobel laureate."
   ]
  },
  {
   "cell_type": "code",
   "execution_count": null,
   "id": "ea879656-f5e0-4202-8897-567b1ae1c1ff",
   "metadata": {},
   "outputs": [],
   "source": []
  },
  {
   "cell_type": "markdown",
   "id": "9f243f6c-cf44-4625-8cda-44c493b9c040",
   "metadata": {},
   "source": [
    "## Question7. Who were the oldest laureates ?"
   ]
  },
  {
   "cell_type": "code",
   "execution_count": 86,
   "id": "6099deb9-54d8-4462-b581-664045db8e22",
   "metadata": {},
   "outputs": [],
   "source": [
    "oldest_female = df[df.gender == 'female'].nlargest(1, 'age_when_awarded')\n",
    "oldest_male = df[df.gender == 'male'].nlargest(1, 'age_when_awarded')"
   ]
  },
  {
   "cell_type": "code",
   "execution_count": 87,
   "id": "cb675d2b-3ae7-422b-a508-88fa575a7e41",
   "metadata": {},
   "outputs": [
    {
     "data": {
      "text/html": [
       "<div>\n",
       "<style scoped>\n",
       "    .dataframe tbody tr th:only-of-type {\n",
       "        vertical-align: middle;\n",
       "    }\n",
       "\n",
       "    .dataframe tbody tr th {\n",
       "        vertical-align: top;\n",
       "    }\n",
       "\n",
       "    .dataframe thead th {\n",
       "        text-align: right;\n",
       "    }\n",
       "</style>\n",
       "<table border=\"1\" class=\"dataframe\">\n",
       "  <thead>\n",
       "    <tr style=\"text-align: right;\">\n",
       "      <th></th>\n",
       "      <th>name</th>\n",
       "      <th>category</th>\n",
       "      <th>gender</th>\n",
       "      <th>age_when_awarded</th>\n",
       "    </tr>\n",
       "  </thead>\n",
       "  <tbody>\n",
       "    <tr>\n",
       "      <th>177</th>\n",
       "      <td>Doris Lessing</td>\n",
       "      <td>Literature</td>\n",
       "      <td>female</td>\n",
       "      <td>88.0</td>\n",
       "    </tr>\n",
       "  </tbody>\n",
       "</table>\n",
       "</div>"
      ],
      "text/plain": [
       "              name    category  gender  age_when_awarded\n",
       "177  Doris Lessing  Literature  female              88.0"
      ]
     },
     "execution_count": 87,
     "metadata": {},
     "output_type": "execute_result"
    }
   ],
   "source": [
    "oldest_female[['name','category','gender','age_when_awarded']]"
   ]
  },
  {
   "cell_type": "markdown",
   "id": "434ea218-eda5-4a7a-939f-f8b2d983f730",
   "metadata": {},
   "source": [
    "Doris Lessing is the oldest female nobel laureate."
   ]
  },
  {
   "cell_type": "code",
   "execution_count": 89,
   "id": "504fe62a-2e9f-4bf8-93cc-8a503fd3cceb",
   "metadata": {},
   "outputs": [
    {
     "data": {
      "text/html": [
       "<div>\n",
       "<style scoped>\n",
       "    .dataframe tbody tr th:only-of-type {\n",
       "        vertical-align: middle;\n",
       "    }\n",
       "\n",
       "    .dataframe tbody tr th {\n",
       "        vertical-align: top;\n",
       "    }\n",
       "\n",
       "    .dataframe thead th {\n",
       "        text-align: right;\n",
       "    }\n",
       "</style>\n",
       "<table border=\"1\" class=\"dataframe\">\n",
       "  <thead>\n",
       "    <tr style=\"text-align: right;\">\n",
       "      <th></th>\n",
       "      <th>name</th>\n",
       "      <th>category</th>\n",
       "      <th>gender</th>\n",
       "      <th>age_when_awarded</th>\n",
       "    </tr>\n",
       "  </thead>\n",
       "  <tbody>\n",
       "    <tr>\n",
       "      <th>456</th>\n",
       "      <td>John B. Goodenough</td>\n",
       "      <td>Chemistry</td>\n",
       "      <td>male</td>\n",
       "      <td>97.0</td>\n",
       "    </tr>\n",
       "  </tbody>\n",
       "</table>\n",
       "</div>"
      ],
      "text/plain": [
       "                   name   category gender  age_when_awarded\n",
       "456  John B. Goodenough  Chemistry   male              97.0"
      ]
     },
     "execution_count": 89,
     "metadata": {},
     "output_type": "execute_result"
    }
   ],
   "source": [
    "oldest_male[['name','category','gender','age_when_awarded']]"
   ]
  },
  {
   "cell_type": "markdown",
   "id": "1b632235-0d2c-4a48-86c3-73470cec67b3",
   "metadata": {},
   "source": [
    "John B. Goodenough is the oldest male nobel laureate."
   ]
  },
  {
   "cell_type": "code",
   "execution_count": null,
   "id": "6a809358-d4f2-4c1e-9949-75df22f63534",
   "metadata": {},
   "outputs": [],
   "source": []
  },
  {
   "cell_type": "markdown",
   "id": "6e26d93b-80f8-4a46-8cdd-2af397aa4c95",
   "metadata": {},
   "source": [
    "# 6. Conclusions"
   ]
  },
  {
   "cell_type": "markdown",
   "id": "54ab652b-f29b-4f96-b6b5-37cbe37ee06f",
   "metadata": {},
   "source": [
    "Here conclude the EDA (Exploratory Data Analysis) and Questions part of this  project.\n",
    "\n",
    "The conclusion from above EDA and Questions sections are:\n",
    "\n",
    "- EDA:\n",
    "\n",
    "1) Nobel Prize are given from year 1901 to till date, in which nobel prize are not given to anyone between year 1940 to 1942. It is happen due to world war 2.\n",
    "\n",
    "2) Nobel Prize are given to 222 laureates in physiology or medicine which is even higher than physics and chemistry.\n",
    "\n",
    "3) If we talk about countries, USA alone got 287 nobel prizes among the total 960 nobel prizes which more than the one-fourth of the total nobel prizes. It's amazing\n",
    "\n",
    "4) If we talk about continent, Europe beat North America in terms of nobel laureates which is 513 and 319 respectively. Any other continent barely came near to these two continents.\n",
    "\n",
    "- Questions:\n",
    "\n",
    "1) Highest number of female laureates i.e. 17 are in Peace category and lowest i.e. 2  are in Economic Sciences category.\n",
    "\n",
    "2) There are 350 noble laureate who won the nobel prize alone i.e.,do not share their prize with anyone.\n",
    "\n",
    "3) Among women Marie Curie is the first women to become a nobel laureate(in physics). Among men Emil Von Behring is the first men to become a nobel laureate(in physiology or medicine). Institute of International Law Peace is the first organization that got a nobel prize(in peace).\n",
    "\n",
    "4) There are 6 nobel laureate who got nobel prize more than one time. Marie Curie is the only female in the list.\n",
    "\n",
    "5) In the nobel laureate total female got 58 nobel, male got 574, organization got 28 in which the total percentage share is 6.042%, 91.042% and 2.917% respectively.\n",
    "\n",
    "6) Malala Yousafzai is youngest Nobel Laureate with only 17 years when she was awarded Nobel Prize."
   ]
  },
  {
   "cell_type": "markdown",
   "id": "cf71157a-c57c-4709-a1c6-41310af5a2fc",
   "metadata": {},
   "source": [
    "As mentioned in introduction , Nobel Prize is the most prestigious award a person can get and it is always interesting to do analysis of great minds who get this honour."
   ]
  },
  {
   "cell_type": "code",
   "execution_count": null,
   "id": "819b5b45-69d6-47f8-9305-df3851d4aa92",
   "metadata": {},
   "outputs": [],
   "source": []
  }
 ],
 "metadata": {
  "kernelspec": {
   "display_name": "Python 3 (ipykernel)",
   "language": "python",
   "name": "python3"
  },
  "language_info": {
   "codemirror_mode": {
    "name": "ipython",
    "version": 3
   },
   "file_extension": ".py",
   "mimetype": "text/x-python",
   "name": "python",
   "nbconvert_exporter": "python",
   "pygments_lexer": "ipython3",
   "version": "3.8.5"
  }
 },
 "nbformat": 4,
 "nbformat_minor": 5
}
